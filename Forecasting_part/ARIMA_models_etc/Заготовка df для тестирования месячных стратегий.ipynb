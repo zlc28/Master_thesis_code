{
 "cells": [
  {
   "cell_type": "code",
   "execution_count": 1,
   "id": "c9608d90",
   "metadata": {},
   "outputs": [],
   "source": [
    "import pandas as pd\n",
    "import numpy as np\n",
    "import seaborn as sns\n",
    "import matplotlib.pyplot as plt\n",
    "%matplotlib inline\n",
    "\n",
    "from statsmodels.tsa.arima.model import ARIMA\n",
    "from sklearn.metrics import mean_squared_error\n",
    "import statsmodels.graphics.tsaplots as sgt\n",
    "import statsmodels.tsa.stattools\n",
    "from scipy.stats import norm\n",
    "\n",
    "import warnings\n",
    "warnings.filterwarnings(\"ignore\")"
   ]
  },
  {
   "cell_type": "code",
   "execution_count": null,
   "id": "9cd6e34c",
   "metadata": {},
   "outputs": [],
   "source": [
    "total_df = pd.DataFrame(columns=['Price', 'lower','pred','upper','prob_of_growth','ticker'])\n",
    "\n",
    "for j in companies:\n",
    "    #Создаём дф и временной ряд доходностей\n",
    "    company_df = df.loc[df['TICKER'] == j]\n",
    "    company_df['earn'] = company_df.CLOSE.pct_change()\n",
    "    series = company_df[['DATE','earn']].set_index('DATE')\n",
    "    \n",
    "    #Делаем train и test выборки\n",
    "    historic = series.earn.iloc[:int(len(series) * 0.7)].to_list()\n",
    "    test = series.earn.iloc[int(len(series) * 0.7):]\n",
    "    \n",
    "    \n",
    "    upper_conf_int = []\n",
    "    lower_conf_int = []\n",
    "    predictions = []\n",
    "    probabilities = []\n",
    "    for i in range(len(test)):\n",
    "        res = statsmodels.tsa.stattools.arma_order_select_ic(historic, ic=[\"aic\", \"bic\"])\n",
    "        model = ARIMA(historic, order=(res.aic_min_order[0] , 0 , res.aic_min_order[1]) )\n",
    "        model_results = model.fit()\n",
    "#------РАСЧЁТ ВЕРОЯТНОСТИ ПОЛОЖИТЕЛЬНОЙ ДОХОДНОСТИ------------    \n",
    "        #список AR коэффициентов\n",
    "        ar_params = model_results.arparams\n",
    "        #делаем срез с хвоста train выборки длиной равной количеству AR коэффициентов\n",
    "        ar_obs = np.array( historic[-len(ar_params):][::-1] )\n",
    "        # Скалярно перемножаем их , получаем сумму произведений предыдущих значений и их коэффициентов\n",
    "        if len(ar_params) != 0 :\n",
    "            ar_part = np.dot(ar_params , ar_obs)\n",
    "        elif len(ar_params) == 0 :\n",
    "            ar_part = 0\n",
    "        #список MA коэффициентов\n",
    "        ma_params = model_results.maparams\n",
    "        #делаем срез с хвоста train выборки длиной равной количеству MA коэффициентов\n",
    "        ma_obs = np.array( model_results.resid[-len(ma_params):][::-1] )\n",
    "        # Скалярно перемножаем их , получаем сумму произведений предыдущих значений и их коэффициентов\n",
    "        if len(ma_params) != 0 :\n",
    "            ma_part = np.dot(ma_params , ma_obs)\n",
    "        elif len(ma_params) == 0 :\n",
    "            ma_part = 0\n",
    "        #Константа\n",
    "        const = model_results.params[0]\n",
    "        #Mu\n",
    "        mu = ar_part+ma_part+const\n",
    "        #STD\n",
    "        std = np.sqrt(model_results.params[-1])\n",
    "        #Сама вероятость положительной доходности в будущем месяце\n",
    "        probability_of_growth = norm.cdf(mu/std, loc = 0, scale = 1)\n",
    "#-----------------------------------------------------------------------    \n",
    "        #ПОЛУЧЕНИЕ ДИ И ПРОГНОЗА ЦЕЛЕВОЙ ПЕРЕМЕННОЙ    \n",
    "        arma_forecast = model_results.get_forecast(1)\n",
    "        arma_predictions_df = arma_forecast.conf_int(alpha = 0.05)\n",
    "        pred = model_results.predict(start=len(historic), end=len(historic), dynamic=False)\n",
    "        predictions.append(pred[0])\n",
    "        probabilities.append(probability_of_growth)\n",
    "        upper_conf_int.append(arma_predictions_df[0][1])\n",
    "        lower_conf_int.append(arma_predictions_df[0][0])\n",
    "        historic.append(test[i])\n",
    "    probabilities = pd.DataFrame(probabilities).set_index(test.index)    \n",
    "    predictions = pd.DataFrame(predictions).set_index(test.index)\n",
    "    upper_conf_int = pd.DataFrame(upper_conf_int).set_index(test.index)   \n",
    "    lower_conf_int = pd.DataFrame(lower_conf_int).set_index(test.index)          \n",
    "    #ФОРМИРОВАНИЕ ИТОГОВОГО DF \n",
    "    price_pred = pd.concat([test ,lower_conf_int, predictions , upper_conf_int , probabilities ], axis=1)\n",
    "    price_pred.dropna(inplace=True)\n",
    "    price_pred.columns = ['Price', 'lower','pred','upper','prob_of_growth']\n",
    "    price_pred['ticker'] = j\n",
    "    total_df = pd.concat([total_df,price_pred])\n",
    "    "
   ]
  },
  {
   "cell_type": "code",
   "execution_count": null,
   "id": "6c4db5af",
   "metadata": {},
   "outputs": [],
   "source": [
    "total_df"
   ]
  },
  {
   "cell_type": "code",
   "execution_count": 2,
   "id": "052ddb26",
   "metadata": {},
   "outputs": [],
   "source": [
    "import pandas as pd"
   ]
  },
  {
   "cell_type": "code",
   "execution_count": 8,
   "id": "7903b51f",
   "metadata": {},
   "outputs": [],
   "source": [
    "full_df = pd.DataFrame(columns=['fr', 'lower','pred','upper','prob_of_growth','ticker'])\n"
   ]
  },
  {
   "cell_type": "code",
   "execution_count": 9,
   "id": "5b60a1f1",
   "metadata": {},
   "outputs": [],
   "source": [
    "full_df.to_csv('frfr.csv')"
   ]
  },
  {
   "cell_type": "code",
   "execution_count": null,
   "id": "076eb5d2",
   "metadata": {},
   "outputs": [],
   "source": []
  },
  {
   "cell_type": "code",
   "execution_count": null,
   "id": "1576988c",
   "metadata": {},
   "outputs": [],
   "source": []
  },
  {
   "cell_type": "code",
   "execution_count": null,
   "id": "c674c0c9",
   "metadata": {},
   "outputs": [],
   "source": []
  },
  {
   "cell_type": "code",
   "execution_count": null,
   "id": "de1559bc",
   "metadata": {},
   "outputs": [],
   "source": []
  },
  {
   "cell_type": "code",
   "execution_count": null,
   "id": "b2318511",
   "metadata": {},
   "outputs": [],
   "source": []
  },
  {
   "cell_type": "code",
   "execution_count": null,
   "id": "cad22d4b",
   "metadata": {},
   "outputs": [],
   "source": []
  },
  {
   "cell_type": "code",
   "execution_count": null,
   "id": "ebfb84d8",
   "metadata": {},
   "outputs": [],
   "source": []
  },
  {
   "cell_type": "code",
   "execution_count": null,
   "id": "188e95ff",
   "metadata": {},
   "outputs": [],
   "source": []
  },
  {
   "cell_type": "code",
   "execution_count": null,
   "id": "fd948ff1",
   "metadata": {},
   "outputs": [],
   "source": []
  }
 ],
 "metadata": {
  "kernelspec": {
   "display_name": "Python 3 (ipykernel)",
   "language": "python",
   "name": "python3"
  },
  "language_info": {
   "codemirror_mode": {
    "name": "ipython",
    "version": 3
   },
   "file_extension": ".py",
   "mimetype": "text/x-python",
   "name": "python",
   "nbconvert_exporter": "python",
   "pygments_lexer": "ipython3",
   "version": "3.11.3"
  }
 },
 "nbformat": 4,
 "nbformat_minor": 5
}
