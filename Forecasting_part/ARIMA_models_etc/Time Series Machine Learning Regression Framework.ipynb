{
 "cells": [
  {
   "cell_type": "markdown",
   "metadata": {},
   "source": [
    "# Time Series Machine Learning Regression Framework\n",
    "by Pourya Ayria APR 2019"
   ]
  },
  {
   "cell_type": "code",
   "execution_count": 1,
   "metadata": {},
   "outputs": [],
   "source": [
    "import pandas as pd\n",
    "import numpy as np\n",
    "import matplotlib.pyplot as plt\n",
    "%matplotlib inline\n",
    "\n",
    "from sklearn.pipeline import Pipeline\n",
    "from sklearn.metrics import mean_squared_log_error\n",
    "from sklearn.ensemble import RandomForestRegressor\n",
    "from lightgbm import LGBMRegressor\n",
    "from sklearn import base\n",
    "\n",
    "import warnings\n",
    "warnings.filterwarnings('ignore')"
   ]
  },
  {
   "cell_type": "markdown",
   "metadata": {},
   "source": [
    "# Data Prepration\n",
    "We drop Normalised vlaues of weekly data: Normalised 0, Normalised 1, ..., Normalised 51 columns.\n",
    "Data can be found at https://archive.ics.uci.edu/ml/datasets/Sales_Transactions_Dataset_Weekly"
   ]
  },
  {
   "cell_type": "code",
   "execution_count": 2,
   "metadata": {},
   "outputs": [
    {
     "data": {
      "text/html": [
       "<div>\n",
       "<style scoped>\n",
       "    .dataframe tbody tr th:only-of-type {\n",
       "        vertical-align: middle;\n",
       "    }\n",
       "\n",
       "    .dataframe tbody tr th {\n",
       "        vertical-align: top;\n",
       "    }\n",
       "\n",
       "    .dataframe thead th {\n",
       "        text-align: right;\n",
       "    }\n",
       "</style>\n",
       "<table border=\"1\" class=\"dataframe\">\n",
       "  <thead>\n",
       "    <tr style=\"text-align: right;\">\n",
       "      <th></th>\n",
       "      <th>Product_Code</th>\n",
       "      <th>W0</th>\n",
       "      <th>W1</th>\n",
       "      <th>W2</th>\n",
       "      <th>W3</th>\n",
       "      <th>W4</th>\n",
       "      <th>W5</th>\n",
       "      <th>W6</th>\n",
       "      <th>W7</th>\n",
       "      <th>W8</th>\n",
       "      <th>...</th>\n",
       "      <th>W42</th>\n",
       "      <th>W43</th>\n",
       "      <th>W44</th>\n",
       "      <th>W45</th>\n",
       "      <th>W46</th>\n",
       "      <th>W47</th>\n",
       "      <th>W48</th>\n",
       "      <th>W49</th>\n",
       "      <th>W50</th>\n",
       "      <th>W51</th>\n",
       "    </tr>\n",
       "  </thead>\n",
       "  <tbody>\n",
       "    <tr>\n",
       "      <th>0</th>\n",
       "      <td>P1</td>\n",
       "      <td>11</td>\n",
       "      <td>12</td>\n",
       "      <td>10</td>\n",
       "      <td>8</td>\n",
       "      <td>13</td>\n",
       "      <td>12</td>\n",
       "      <td>14</td>\n",
       "      <td>21</td>\n",
       "      <td>6</td>\n",
       "      <td>...</td>\n",
       "      <td>4</td>\n",
       "      <td>7</td>\n",
       "      <td>8</td>\n",
       "      <td>10</td>\n",
       "      <td>12</td>\n",
       "      <td>3</td>\n",
       "      <td>7</td>\n",
       "      <td>6</td>\n",
       "      <td>5</td>\n",
       "      <td>10</td>\n",
       "    </tr>\n",
       "    <tr>\n",
       "      <th>1</th>\n",
       "      <td>P2</td>\n",
       "      <td>7</td>\n",
       "      <td>6</td>\n",
       "      <td>3</td>\n",
       "      <td>2</td>\n",
       "      <td>7</td>\n",
       "      <td>1</td>\n",
       "      <td>6</td>\n",
       "      <td>3</td>\n",
       "      <td>3</td>\n",
       "      <td>...</td>\n",
       "      <td>2</td>\n",
       "      <td>4</td>\n",
       "      <td>5</td>\n",
       "      <td>1</td>\n",
       "      <td>1</td>\n",
       "      <td>4</td>\n",
       "      <td>5</td>\n",
       "      <td>1</td>\n",
       "      <td>6</td>\n",
       "      <td>0</td>\n",
       "    </tr>\n",
       "    <tr>\n",
       "      <th>2</th>\n",
       "      <td>P3</td>\n",
       "      <td>7</td>\n",
       "      <td>11</td>\n",
       "      <td>8</td>\n",
       "      <td>9</td>\n",
       "      <td>10</td>\n",
       "      <td>8</td>\n",
       "      <td>7</td>\n",
       "      <td>13</td>\n",
       "      <td>12</td>\n",
       "      <td>...</td>\n",
       "      <td>6</td>\n",
       "      <td>14</td>\n",
       "      <td>5</td>\n",
       "      <td>5</td>\n",
       "      <td>7</td>\n",
       "      <td>8</td>\n",
       "      <td>14</td>\n",
       "      <td>8</td>\n",
       "      <td>8</td>\n",
       "      <td>7</td>\n",
       "    </tr>\n",
       "    <tr>\n",
       "      <th>3</th>\n",
       "      <td>P4</td>\n",
       "      <td>12</td>\n",
       "      <td>8</td>\n",
       "      <td>13</td>\n",
       "      <td>5</td>\n",
       "      <td>9</td>\n",
       "      <td>6</td>\n",
       "      <td>9</td>\n",
       "      <td>13</td>\n",
       "      <td>13</td>\n",
       "      <td>...</td>\n",
       "      <td>9</td>\n",
       "      <td>10</td>\n",
       "      <td>3</td>\n",
       "      <td>4</td>\n",
       "      <td>6</td>\n",
       "      <td>8</td>\n",
       "      <td>14</td>\n",
       "      <td>8</td>\n",
       "      <td>7</td>\n",
       "      <td>8</td>\n",
       "    </tr>\n",
       "    <tr>\n",
       "      <th>4</th>\n",
       "      <td>P5</td>\n",
       "      <td>8</td>\n",
       "      <td>5</td>\n",
       "      <td>13</td>\n",
       "      <td>11</td>\n",
       "      <td>6</td>\n",
       "      <td>7</td>\n",
       "      <td>9</td>\n",
       "      <td>14</td>\n",
       "      <td>9</td>\n",
       "      <td>...</td>\n",
       "      <td>7</td>\n",
       "      <td>11</td>\n",
       "      <td>7</td>\n",
       "      <td>12</td>\n",
       "      <td>6</td>\n",
       "      <td>6</td>\n",
       "      <td>5</td>\n",
       "      <td>11</td>\n",
       "      <td>8</td>\n",
       "      <td>9</td>\n",
       "    </tr>\n",
       "  </tbody>\n",
       "</table>\n",
       "<p>5 rows × 53 columns</p>\n",
       "</div>"
      ],
      "text/plain": [
       "  Product_Code  W0  W1  W2  W3  W4  W5  W6  W7  W8 ...   W42  W43  W44  W45  \\\n",
       "0           P1  11  12  10   8  13  12  14  21   6 ...     4    7    8   10   \n",
       "1           P2   7   6   3   2   7   1   6   3   3 ...     2    4    5    1   \n",
       "2           P3   7  11   8   9  10   8   7  13  12 ...     6   14    5    5   \n",
       "3           P4  12   8  13   5   9   6   9  13  13 ...     9   10    3    4   \n",
       "4           P5   8   5  13  11   6   7   9  14   9 ...     7   11    7   12   \n",
       "\n",
       "   W46  W47  W48  W49  W50  W51  \n",
       "0   12    3    7    6    5   10  \n",
       "1    1    4    5    1    6    0  \n",
       "2    7    8   14    8    8    7  \n",
       "3    6    8   14    8    7    8  \n",
       "4    6    6    5   11    8    9  \n",
       "\n",
       "[5 rows x 53 columns]"
      ]
     },
     "execution_count": 2,
     "metadata": {},
     "output_type": "execute_result"
    }
   ],
   "source": [
    "df_org = pd.read_csv('./data/Sales_Transactions_Dataset_Weekly.csv')\n",
    "df_org = df_org.filter(regex=r'Product|W')\n",
    "df_org.head()"
   ]
  },
  {
   "cell_type": "code",
   "execution_count": 3,
   "metadata": {},
   "outputs": [
    {
     "data": {
      "text/html": [
       "<div>\n",
       "<style scoped>\n",
       "    .dataframe tbody tr th:only-of-type {\n",
       "        vertical-align: middle;\n",
       "    }\n",
       "\n",
       "    .dataframe tbody tr th {\n",
       "        vertical-align: top;\n",
       "    }\n",
       "\n",
       "    .dataframe thead th {\n",
       "        text-align: right;\n",
       "    }\n",
       "</style>\n",
       "<table border=\"1\" class=\"dataframe\">\n",
       "  <thead>\n",
       "    <tr style=\"text-align: right;\">\n",
       "      <th></th>\n",
       "      <th>Product_Code</th>\n",
       "      <th>Week</th>\n",
       "      <th>Sales</th>\n",
       "    </tr>\n",
       "  </thead>\n",
       "  <tbody>\n",
       "    <tr>\n",
       "      <th>0</th>\n",
       "      <td>1</td>\n",
       "      <td>0</td>\n",
       "      <td>11</td>\n",
       "    </tr>\n",
       "    <tr>\n",
       "      <th>1</th>\n",
       "      <td>2</td>\n",
       "      <td>0</td>\n",
       "      <td>7</td>\n",
       "    </tr>\n",
       "    <tr>\n",
       "      <th>2</th>\n",
       "      <td>3</td>\n",
       "      <td>0</td>\n",
       "      <td>7</td>\n",
       "    </tr>\n",
       "    <tr>\n",
       "      <th>3</th>\n",
       "      <td>4</td>\n",
       "      <td>0</td>\n",
       "      <td>12</td>\n",
       "    </tr>\n",
       "    <tr>\n",
       "      <th>4</th>\n",
       "      <td>5</td>\n",
       "      <td>0</td>\n",
       "      <td>8</td>\n",
       "    </tr>\n",
       "    <tr>\n",
       "      <th>5</th>\n",
       "      <td>6</td>\n",
       "      <td>0</td>\n",
       "      <td>3</td>\n",
       "    </tr>\n",
       "    <tr>\n",
       "      <th>6</th>\n",
       "      <td>7</td>\n",
       "      <td>0</td>\n",
       "      <td>4</td>\n",
       "    </tr>\n",
       "    <tr>\n",
       "      <th>7</th>\n",
       "      <td>8</td>\n",
       "      <td>0</td>\n",
       "      <td>8</td>\n",
       "    </tr>\n",
       "    <tr>\n",
       "      <th>8</th>\n",
       "      <td>9</td>\n",
       "      <td>0</td>\n",
       "      <td>14</td>\n",
       "    </tr>\n",
       "    <tr>\n",
       "      <th>9</th>\n",
       "      <td>10</td>\n",
       "      <td>0</td>\n",
       "      <td>22</td>\n",
       "    </tr>\n",
       "  </tbody>\n",
       "</table>\n",
       "</div>"
      ],
      "text/plain": [
       "   Product_Code  Week  Sales\n",
       "0             1     0     11\n",
       "1             2     0      7\n",
       "2             3     0      7\n",
       "3             4     0     12\n",
       "4             5     0      8\n",
       "5             6     0      3\n",
       "6             7     0      4\n",
       "7             8     0      8\n",
       "8             9     0     14\n",
       "9            10     0     22"
      ]
     },
     "execution_count": 3,
     "metadata": {},
     "output_type": "execute_result"
    }
   ],
   "source": [
    "df = df_org.melt(id_vars='Product_Code', var_name='Week', value_name='Sales')\n",
    "\n",
    "df['Product_Code'] = df['Product_Code'].str.extract('(\\d+)', expand=False).astype(int)\n",
    "df['Week'] = df['Week'].str.extract('(\\d+)', expand=False).astype(int)\n",
    "\n",
    "df = df.sort_values(['Week', 'Product_Code'])\n",
    "df.head(10)"
   ]
  },
  {
   "cell_type": "code",
   "execution_count": 4,
   "metadata": {},
   "outputs": [
    {
     "data": {
      "text/html": [
       "<div>\n",
       "<style scoped>\n",
       "    .dataframe tbody tr th:only-of-type {\n",
       "        vertical-align: middle;\n",
       "    }\n",
       "\n",
       "    .dataframe tbody tr th {\n",
       "        vertical-align: top;\n",
       "    }\n",
       "\n",
       "    .dataframe thead th {\n",
       "        text-align: right;\n",
       "    }\n",
       "</style>\n",
       "<table border=\"1\" class=\"dataframe\">\n",
       "  <thead>\n",
       "    <tr style=\"text-align: right;\">\n",
       "      <th></th>\n",
       "      <th>Product_Code</th>\n",
       "      <th>Week</th>\n",
       "      <th>Sales</th>\n",
       "    </tr>\n",
       "  </thead>\n",
       "  <tbody>\n",
       "    <tr>\n",
       "      <th>42162</th>\n",
       "      <td>810</td>\n",
       "      <td>51</td>\n",
       "      <td>1</td>\n",
       "    </tr>\n",
       "    <tr>\n",
       "      <th>42163</th>\n",
       "      <td>811</td>\n",
       "      <td>51</td>\n",
       "      <td>5</td>\n",
       "    </tr>\n",
       "    <tr>\n",
       "      <th>42164</th>\n",
       "      <td>812</td>\n",
       "      <td>51</td>\n",
       "      <td>4</td>\n",
       "    </tr>\n",
       "    <tr>\n",
       "      <th>42165</th>\n",
       "      <td>813</td>\n",
       "      <td>51</td>\n",
       "      <td>4</td>\n",
       "    </tr>\n",
       "    <tr>\n",
       "      <th>42166</th>\n",
       "      <td>814</td>\n",
       "      <td>51</td>\n",
       "      <td>11</td>\n",
       "    </tr>\n",
       "    <tr>\n",
       "      <th>42167</th>\n",
       "      <td>815</td>\n",
       "      <td>51</td>\n",
       "      <td>0</td>\n",
       "    </tr>\n",
       "    <tr>\n",
       "      <th>42168</th>\n",
       "      <td>816</td>\n",
       "      <td>51</td>\n",
       "      <td>5</td>\n",
       "    </tr>\n",
       "    <tr>\n",
       "      <th>42169</th>\n",
       "      <td>817</td>\n",
       "      <td>51</td>\n",
       "      <td>3</td>\n",
       "    </tr>\n",
       "    <tr>\n",
       "      <th>42170</th>\n",
       "      <td>818</td>\n",
       "      <td>51</td>\n",
       "      <td>0</td>\n",
       "    </tr>\n",
       "    <tr>\n",
       "      <th>42171</th>\n",
       "      <td>819</td>\n",
       "      <td>51</td>\n",
       "      <td>1</td>\n",
       "    </tr>\n",
       "  </tbody>\n",
       "</table>\n",
       "</div>"
      ],
      "text/plain": [
       "       Product_Code  Week  Sales\n",
       "42162           810    51      1\n",
       "42163           811    51      5\n",
       "42164           812    51      4\n",
       "42165           813    51      4\n",
       "42166           814    51     11\n",
       "42167           815    51      0\n",
       "42168           816    51      5\n",
       "42169           817    51      3\n",
       "42170           818    51      0\n",
       "42171           819    51      1"
      ]
     },
     "execution_count": 4,
     "metadata": {},
     "output_type": "execute_result"
    }
   ],
   "source": [
    "df.tail(10)"
   ]
  },
  {
   "cell_type": "code",
   "execution_count": null,
   "metadata": {},
   "outputs": [],
   "source": []
  },
  {
   "cell_type": "markdown",
   "metadata": {},
   "source": [
    "# To Supervised"
   ]
  },
  {
   "cell_type": "code",
   "execution_count": 5,
   "metadata": {},
   "outputs": [],
   "source": [
    "class ToSupervised(base.BaseEstimator,base.TransformerMixin):\n",
    "    \n",
    "    def __init__(self,col,groupCol,numLags,dropna=False):\n",
    "        \n",
    "        self.col = col\n",
    "        self.groupCol = groupCol\n",
    "        self.numLags = numLags\n",
    "        self.dropna = dropna\n",
    "        \n",
    "    def fit(self,X,y=None):\n",
    "        self.X = X\n",
    "        return self\n",
    "    \n",
    "    def transform(self,X):\n",
    "        tmp = self.X.copy()\n",
    "        for i in range(1,self.numLags+1):\n",
    "            tmp[str(i)+'_Week_Ago'+\"_\"+self.col] = tmp.groupby([self.groupCol])[self.col].shift(i) \n",
    "            \n",
    "        if self.dropna:\n",
    "            tmp = tmp.dropna()\n",
    "            tmp = tmp.reset_index(drop=True)\n",
    "            \n",
    "        \n",
    "            \n",
    "        return tmp"
   ]
  },
  {
   "cell_type": "code",
   "execution_count": 6,
   "metadata": {},
   "outputs": [],
   "source": [
    "class ToSupervisedDiff(base.BaseEstimator,base.TransformerMixin):\n",
    "    \n",
    "    def __init__(self,col,groupCol,numLags,dropna=False):\n",
    "        \n",
    "        self.col = col\n",
    "        self.groupCol = groupCol\n",
    "        self.numLags = numLags\n",
    "        self.dropna = dropna\n",
    "        \n",
    "    def fit(self,X,y=None):\n",
    "        self.X = X\n",
    "        return self\n",
    "    \n",
    "    def transform(self,X):\n",
    "        tmp = self.X.copy()\n",
    "        for i in range(1,self.numLags+1):\n",
    "            tmp[str(i)+'_Week_Ago_Diff_'+\"_\"+self.col] = tmp.groupby([self.groupCol])[self.col].diff(i) \n",
    "            \n",
    "        if self.dropna:\n",
    "            tmp = tmp.dropna()\n",
    "            tmp = tmp.reset_index(drop=True)\n",
    "            \n",
    "        return tmp"
   ]
  },
  {
   "cell_type": "code",
   "execution_count": null,
   "metadata": {},
   "outputs": [],
   "source": []
  },
  {
   "cell_type": "markdown",
   "metadata": {},
   "source": [
    "# Time Series K-Fold"
   ]
  },
  {
   "cell_type": "code",
   "execution_count": 7,
   "metadata": {},
   "outputs": [],
   "source": [
    "from itertools import chain\n",
    "class Kfold_time(object):\n",
    "    \n",
    "    def __init__(self,**options):\n",
    "        \n",
    "        \n",
    "        self.target     = options.pop('target', None)\n",
    "        self.date_col   = options.pop('date_col', None)\n",
    "        self.date_init  = options.pop('date_init', None)\n",
    "        self.date_final = options.pop('date_final', None)\n",
    "\n",
    "        if options:\n",
    "            raise TypeError(\"Invalid parameters passed: %s\" % str(options))\n",
    "            \n",
    "        if ((self.target==None )| (self.date_col==None )| (self.date_init==None ) | (self.date_final==None )):\n",
    "            raise TypeError(\"Incomplete inputs\")\n",
    "    \n",
    "    def _train_test_split_time(self,X):\n",
    "        n_arrays = len(X)\n",
    "        if n_arrays == 0:\n",
    "            raise ValueError(\"At least one array required as input\")\n",
    "\n",
    "        for i in range(self.date_init,self.date_final):\n",
    "\n",
    "            train = X[X[self.date_col] < i]\n",
    "            val   = X[X[self.date_col] == i]\n",
    "\n",
    "            X_train, X_test = train.drop([self.target], axis=1), val.drop([self.target], axis=1)\n",
    "            y_train, y_test = train[self.target].values, val[self.target].values\n",
    "\n",
    "            yield X_train, X_test, y_train, y_test\n",
    "\n",
    "    \n",
    "    def split(self,X):\n",
    "        cv_t = self._train_test_split_time(X)\n",
    "        return chain(cv_t)\n",
    "        "
   ]
  },
  {
   "cell_type": "markdown",
   "metadata": {},
   "source": [
    "# Metric: RMSLE "
   ]
  },
  {
   "cell_type": "code",
   "execution_count": 8,
   "metadata": {},
   "outputs": [],
   "source": [
    "def rmsle(ytrue, ypred):\n",
    "    return np.sqrt(mean_squared_log_error(ytrue, ypred))"
   ]
  },
  {
   "cell_type": "markdown",
   "metadata": {},
   "source": [
    "# Baseline Estimator"
   ]
  },
  {
   "cell_type": "code",
   "execution_count": 9,
   "metadata": {},
   "outputs": [],
   "source": [
    "class BaseEstimator(base.BaseEstimator, base.RegressorMixin):\n",
    "    def __init__(self, predCol):\n",
    "        \"\"\"\n",
    "            As a base model we assume the number of sales last week and this week are the same\n",
    "            Input: \n",
    "                    predCol: l-week ago sales\n",
    "        \"\"\"\n",
    "        self.predCol = predCol\n",
    "\n",
    "        \n",
    "    def fit(self, X, y):\n",
    "        return self\n",
    "\n",
    "\n",
    "    def predict(self, X):\n",
    "        prediction = X[self.predCol].values\n",
    "        return prediction\n",
    "\n",
    "    def score(self, X, y,scoring):\n",
    "        \n",
    "        prediction = self.predict(X)\n",
    "    \n",
    "        error =scoring(y, prediction)# np.sqrt(mean_squared_log_error(y, prediction))\n",
    "        return error "
   ]
  },
  {
   "cell_type": "markdown",
   "metadata": {},
   "source": [
    "# Time Series Regression"
   ]
  },
  {
   "cell_type": "code",
   "execution_count": 10,
   "metadata": {},
   "outputs": [],
   "source": [
    "class TimeSeriesRegressor(base.BaseEstimator, base.RegressorMixin):\n",
    "    \n",
    "    def __init__(self,model,cv,scoring,verbosity=True):\n",
    "        self.model = model\n",
    "        self.cv = cv\n",
    "        self.verbosity = verbosity\n",
    "        self.scoring = scoring \n",
    "        \n",
    "            \n",
    "    def fit(self,X,y=None):\n",
    "        return self\n",
    "        \n",
    "    \n",
    "    def predict(self,X=None):\n",
    "        \n",
    "        pred = {}\n",
    "        for indx,fold in enumerate(self.cv.split(X)):\n",
    "\n",
    "            X_train, X_test, y_train, y_test = fold    \n",
    "            self.model.fit(X_train, y_train)\n",
    "            pred[str(indx)+'_fold'] = self.model.predict(X_test)\n",
    "            \n",
    "        prediction = pd.DataFrame(pred)\n",
    "    \n",
    "        return prediction\n",
    "    \n",
    "\n",
    "    def score(self,X,y=None):\n",
    "\n",
    "\n",
    "        errors = []\n",
    "        for indx,fold in enumerate(self.cv.split(X)):\n",
    "\n",
    "            X_train, X_test, y_train, y_test = fold    \n",
    "            self.model.fit(X_train, y_train)\n",
    "            prediction = self.model.predict(X_test)\n",
    "            error = self.scoring(y_test, prediction)\n",
    "            errors.append(error)\n",
    "\n",
    "            if self.verbosity:\n",
    "                print(\"Fold: {}, Error: {:.4f}\".format(indx,error))\n",
    "\n",
    "        if self.verbosity:\n",
    "            print('Total Error {:.4f}'.format(np.mean(errors)))\n",
    "\n",
    "        return errors"
   ]
  },
  {
   "cell_type": "code",
   "execution_count": 11,
   "metadata": {},
   "outputs": [],
   "source": [
    "class TimeSeriesRegressorLog(base.BaseEstimator, base.RegressorMixin):\n",
    "    \n",
    "    def __init__(self,model,cv,scoring,verbosity=True):\n",
    "        self.model = model\n",
    "        self.cv = cv\n",
    "        self.verbosity = verbosity\n",
    "        self.scoring = scoring\n",
    "        \n",
    "            \n",
    "    def fit(self,X,y=None):\n",
    "        return self\n",
    "        \n",
    "    \n",
    "    def predict(self,X=None):\n",
    "        \n",
    "        pred = {}\n",
    "        for indx,fold in enumerate(self.cv.split(X)):\n",
    "\n",
    "            X_train, X_test, y_train, y_test = fold    \n",
    "            self.model.fit(X_train, y_train)\n",
    "            pred[str(indx)+'_fold'] = self.model.predict(X_test)\n",
    "            \n",
    "        prediction = pd.DataFrame(pred)\n",
    "    \n",
    "        return prediction\n",
    "\n",
    "    \n",
    "    def score(self,X,y=None):#**options):\n",
    "\n",
    "\n",
    "        errors = []\n",
    "        for indx,fold in enumerate(self.cv.split(X)):\n",
    "\n",
    "            X_train, X_test, y_train, y_test = fold    \n",
    "            self.model.fit(X_train, np.log1p(y_train))\n",
    "            prediction = np.expm1(self.model.predict(X_test))\n",
    "            error = self.scoring(y_test, prediction)\n",
    "            errors.append(error)\n",
    "\n",
    "            if self.verbosity:\n",
    "                print(\"Fold: {}, Error: {:.4f}\".format(indx,error))\n",
    "\n",
    "        if self.verbosity:\n",
    "                print('Total Error {:.4f}'.format(np.mean(errors)))\n",
    "\n",
    "        return errors\n"
   ]
  },
  {
   "cell_type": "markdown",
   "metadata": {},
   "source": [
    "# Steps Tuning"
   ]
  },
  {
   "cell_type": "code",
   "execution_count": 12,
   "metadata": {},
   "outputs": [],
   "source": [
    "def getDataFramePipeline(i):\n",
    "    steps = [(str(i)+'_step',ToSupervised('Sales','Product_Code',i))]\n",
    "    for j in range(1,i+1):\n",
    "        if i==j:\n",
    "\n",
    "            pp = (str(j)+'_step_diff',\n",
    "                  ToSupervisedDiff(str(i)+'_Week_Ago_Sales','Product_Code',1,dropna=True))\n",
    "            steps.append(pp)\n",
    "        else:\n",
    "\n",
    "            pp = (str(j)+'_step_diff',\n",
    "                  ToSupervisedDiff(str(i)+'_Week_Ago_Sales','Product_Code',1))\n",
    "            steps.append(pp)\n",
    "            \n",
    "    return steps\n",
    "            "
   ]
  },
  {
   "cell_type": "code",
   "execution_count": null,
   "metadata": {},
   "outputs": [],
   "source": []
  },
  {
   "cell_type": "code",
   "execution_count": 13,
   "metadata": {},
   "outputs": [],
   "source": [
    "from tqdm import tqdm\n",
    "def stepsTune(X,model,num_steps,init=1):\n",
    "    scores = []\n",
    "    for i in tqdm(range(init,num_steps+1)):\n",
    "        steps = []\n",
    "        steps.extend(getDataFramePipeline(i))\n",
    "        steps.append(('predic_1',model))\n",
    "        super_ = Pipeline(steps).fit(X)\n",
    "        score_ = np.mean(super_.score(X))\n",
    "        scores.append((i,score_))\n",
    "        \n",
    "    return scores"
   ]
  },
  {
   "cell_type": "code",
   "execution_count": null,
   "metadata": {},
   "outputs": [],
   "source": []
  },
  {
   "cell_type": "markdown",
   "metadata": {},
   "source": [
    "# Tune Hyperparameters"
   ]
  },
  {
   "cell_type": "code",
   "execution_count": 14,
   "metadata": {},
   "outputs": [],
   "source": [
    "from collections.abc import Mapping, Sequence, Iterable\n",
    "from itertools import product\n",
    "from functools import partial, reduce\n",
    "import operator\n",
    "\n",
    "class TimeGridBasic(base.BaseEstimator, base.RegressorMixin):\n",
    "    \n",
    "    def __init__(self,param_grid):\n",
    "        \n",
    "    \n",
    "        if not isinstance(param_grid, (Mapping, Iterable)):\n",
    "                raise TypeError('Parameter grid is not a dict or '\n",
    "                                'a list ({!r})'.format(param_grid))\n",
    "\n",
    "        if isinstance(param_grid, Mapping):\n",
    "                # wrap dictionary in a singleton list to support either dict\n",
    "                # or list of dicts\n",
    "                param_grid = [param_grid]\n",
    "\n",
    "\n",
    "        if isinstance(param_grid, Mapping):\n",
    "                # wrap dictionary in a singleton list to support either dict\n",
    "                # or list of dicts\n",
    "                param_grid = [param_grid]\n",
    "\n",
    "        # check if all entries are dictionaries of lists\n",
    "        for grid in param_grid:\n",
    "            if not isinstance(grid, dict):\n",
    "                raise TypeError('Parameter grid is not a '\n",
    "                                'dict ({!r})'.format(grid))\n",
    "            for key in grid:\n",
    "                if not isinstance(grid[key], Iterable):\n",
    "                    raise TypeError('Parameter grid value is not iterable '\n",
    "                                    '(key={!r}, value={!r})'\n",
    "                                    .format(key, grid[key]))\n",
    "\n",
    "\n",
    "        self.param_grid = param_grid\n",
    "                \n",
    "    def __iter__(self):\n",
    "        \"\"\"Iterate over the points in the grid.\n",
    "        Returns\n",
    "        -------\n",
    "        params : iterator over dict of string to any\n",
    "            Yields dictionaries mapping each estimator parameter to one of its\n",
    "            allowed values.\n",
    "        \"\"\"\n",
    "        for p in self.param_grid:\n",
    "            # Always sort the keys of a dictionary, for reproducibility\n",
    "            items = sorted(p.items())\n",
    "            if not items:\n",
    "                yield {}\n",
    "            else:\n",
    "                keys, values = zip(*items)\n",
    "                for v in product(*values):\n",
    "                    params = dict(zip(keys, v))\n",
    "                    yield params   "
   ]
  },
  {
   "cell_type": "code",
   "execution_count": 15,
   "metadata": {},
   "outputs": [],
   "source": [
    "class TimeSeriesGridSearch(TimeGridBasic,base.BaseEstimator, base.RegressorMixin):\n",
    "    \n",
    "    \n",
    "    def __init__(self,**options):\n",
    "        \n",
    "        self.model      = options.pop('model', None)\n",
    "        self.cv         = options.pop('cv', None)\n",
    "        self.verbosity  = options.pop('verbosity', False)\n",
    "        self.scoring    = options.pop('scoring', None)\n",
    "        param_grid      = options.pop('param_grid', None)\n",
    "        self.param_grid = TimeGridBasic(param_grid)\n",
    "        \n",
    "        if options:\n",
    "            raise TypeError(\"Invalid parameters passed: %s\" % str(options))\n",
    "\n",
    "        if ((self.model==None )| (self.cv==None)):\n",
    "            raise TypeError(\"Incomplete inputs\")\n",
    "            \n",
    "            \n",
    "    def fit(self,X,y=None):\n",
    "        self.X = X\n",
    "        return self\n",
    "\n",
    "\n",
    "    def _get_score(self,param):\n",
    "\n",
    "        errors = []\n",
    "        for indx,fold in enumerate(self.cv.split(self.X)):\n",
    "\n",
    "            X_train, X_test, y_train, y_test = fold    \n",
    "            self.model.set_params(**param).fit(X_train, np.log1p(y_train))\n",
    "            prediction = np.expm1(self.model.predict(X_test))\n",
    "            error = self.scoring(y_test, prediction)\n",
    "            errors.append(error)\n",
    "\n",
    "            if self.verbosity:\n",
    "                print(\"Fold: {}, Error: {:.4f}\".format(indx,error))\n",
    "\n",
    "        if self.verbosity:\n",
    "                print('Total Error {:.4f}'.format(np.mean(errors)))\n",
    "                \n",
    "        \n",
    "        return errors\n",
    "\n",
    "    def score(self):\n",
    "\n",
    "        errors=[]\n",
    "        get_param = []\n",
    "        for param in self.param_grid:\n",
    "            \n",
    "            if self.verbosity:\n",
    "                print(param)\n",
    "                \n",
    "            errors.append(np.mean(self._get_score(param)))\n",
    "            get_param.append(param)\n",
    "\n",
    "        self.sorted_errors,self.sorted_params = (list(t) for t in zip(*sorted(zip(errors,get_param))))\n",
    "        \n",
    "        return self.sorted_errors,self.sorted_params\n",
    "    \n",
    "    \n",
    "    def best_estimator(self,verbosity=False):\n",
    "\n",
    "        if verbosity:\n",
    "            print('error: {:.4f} \\n'.format(self.sorted_errors[0]))\n",
    "            print('Best params:')\n",
    "            print(self.sorted_params[0])\n",
    "\n",
    "        return self.sorted_params[0]\n",
    "\n",
    "\n"
   ]
  },
  {
   "cell_type": "code",
   "execution_count": null,
   "metadata": {},
   "outputs": [],
   "source": []
  },
  {
   "cell_type": "code",
   "execution_count": null,
   "metadata": {},
   "outputs": [],
   "source": []
  },
  {
   "cell_type": "markdown",
   "metadata": {},
   "source": [
    "# Sales Distribution "
   ]
  },
  {
   "cell_type": "code",
   "execution_count": 16,
   "metadata": {},
   "outputs": [
    {
     "data": {
      "image/png": "[encoded data removed]",
      "text/plain": [
       "<Figure size 720x360 with 1 Axes>"
      ]
     },
     "metadata": {},
     "output_type": "display_data"
    }
   ],
   "source": [
    "df['Sales'].hist(bins=20, figsize=(10,5))\n",
    "plt.xlabel('Number of Sales',fontsize=14)\n",
    "plt.ylabel('Count Number of Sales',fontsize=14)\n",
    "plt.title('Sales',fontsize=20)\n",
    "plt.show()"
   ]
  },
  {
   "cell_type": "markdown",
   "metadata": {},
   "source": [
    "# Data Prepration"
   ]
  },
  {
   "cell_type": "code",
   "execution_count": 17,
   "metadata": {},
   "outputs": [],
   "source": [
    "steps = [('1_step',ToSupervised('Sales','Product_Code',1)),\n",
    "         ('1_step_diff',ToSupervisedDiff('1_Week_Ago_Sales','Product_Code',1,dropna=True))]\n",
    "super_1 = Pipeline(steps).fit_transform(df)"
   ]
  },
  {
   "cell_type": "code",
   "execution_count": 18,
   "metadata": {},
   "outputs": [
    {
     "data": {
      "text/html": [
       "<div>\n",
       "<style scoped>\n",
       "    .dataframe tbody tr th:only-of-type {\n",
       "        vertical-align: middle;\n",
       "    }\n",
       "\n",
       "    .dataframe tbody tr th {\n",
       "        vertical-align: top;\n",
       "    }\n",
       "\n",
       "    .dataframe thead th {\n",
       "        text-align: right;\n",
       "    }\n",
       "</style>\n",
       "<table border=\"1\" class=\"dataframe\">\n",
       "  <thead>\n",
       "    <tr style=\"text-align: right;\">\n",
       "      <th></th>\n",
       "      <th>Product_Code</th>\n",
       "      <th>Week</th>\n",
       "      <th>Sales</th>\n",
       "      <th>1_Week_Ago_Sales</th>\n",
       "      <th>1_Week_Ago_Diff__1_Week_Ago_Sales</th>\n",
       "    </tr>\n",
       "  </thead>\n",
       "  <tbody>\n",
       "    <tr>\n",
       "      <th>0</th>\n",
       "      <td>1</td>\n",
       "      <td>2</td>\n",
       "      <td>10</td>\n",
       "      <td>12.0</td>\n",
       "      <td>1.0</td>\n",
       "    </tr>\n",
       "    <tr>\n",
       "      <th>1</th>\n",
       "      <td>2</td>\n",
       "      <td>2</td>\n",
       "      <td>3</td>\n",
       "      <td>6.0</td>\n",
       "      <td>-1.0</td>\n",
       "    </tr>\n",
       "    <tr>\n",
       "      <th>2</th>\n",
       "      <td>3</td>\n",
       "      <td>2</td>\n",
       "      <td>8</td>\n",
       "      <td>11.0</td>\n",
       "      <td>4.0</td>\n",
       "    </tr>\n",
       "    <tr>\n",
       "      <th>3</th>\n",
       "      <td>4</td>\n",
       "      <td>2</td>\n",
       "      <td>13</td>\n",
       "      <td>8.0</td>\n",
       "      <td>-4.0</td>\n",
       "    </tr>\n",
       "    <tr>\n",
       "      <th>4</th>\n",
       "      <td>5</td>\n",
       "      <td>2</td>\n",
       "      <td>13</td>\n",
       "      <td>5.0</td>\n",
       "      <td>-3.0</td>\n",
       "    </tr>\n",
       "  </tbody>\n",
       "</table>\n",
       "</div>"
      ],
      "text/plain": [
       "   Product_Code  Week  Sales  1_Week_Ago_Sales  \\\n",
       "0             1     2     10              12.0   \n",
       "1             2     2      3               6.0   \n",
       "2             3     2      8              11.0   \n",
       "3             4     2     13               8.0   \n",
       "4             5     2     13               5.0   \n",
       "\n",
       "   1_Week_Ago_Diff__1_Week_Ago_Sales  \n",
       "0                                1.0  \n",
       "1                               -1.0  \n",
       "2                                4.0  \n",
       "3                               -4.0  \n",
       "4                               -3.0  "
      ]
     },
     "execution_count": 18,
     "metadata": {},
     "output_type": "execute_result"
    }
   ],
   "source": [
    "super_1.head()"
   ]
  },
  {
   "cell_type": "code",
   "execution_count": null,
   "metadata": {},
   "outputs": [],
   "source": []
  },
  {
   "cell_type": "markdown",
   "metadata": {},
   "source": [
    "# Base Model"
   ]
  },
  {
   "cell_type": "code",
   "execution_count": 19,
   "metadata": {},
   "outputs": [],
   "source": [
    "kf = Kfold_time(target='Sales',date_col = 'Week',date_init=40,date_final=52)"
   ]
  },
  {
   "cell_type": "code",
   "execution_count": 20,
   "metadata": {},
   "outputs": [
    {
     "name": "stdout",
     "output_type": "stream",
     "text": [
      "Fold: 0, Error: 0.520\n",
      "Fold: 1, Error: 0.517\n",
      "Fold: 2, Error: 0.510\n",
      "Fold: 3, Error: 0.508\n",
      "Fold: 4, Error: 0.534\n",
      "Fold: 5, Error: 0.523\n",
      "Fold: 6, Error: 0.500\n",
      "Fold: 7, Error: 0.491\n",
      "Fold: 8, Error: 0.506\n",
      "Fold: 9, Error: 0.505\n",
      "Fold: 10, Error: 0.522\n",
      "Fold: 11, Error: 0.552\n",
      "Total Error 0.516\n"
     ]
    }
   ],
   "source": [
    "base_model = BaseEstimator('1_Week_Ago_Sales')\n",
    "errors = []\n",
    "for indx,fold in enumerate(kf.split(super_1)):\n",
    "    X_train, X_test, y_train, y_test = fold\n",
    "    error = base_model.score(X_test,y_test,rmsle)\n",
    "    errors.append(error)\n",
    "    print(\"Fold: {}, Error: {:.3f}\".format(indx,error))\n",
    "    \n",
    "print('Total Error {:.3f}'.format(np.mean(errors)))"
   ]
  },
  {
   "cell_type": "code",
   "execution_count": null,
   "metadata": {},
   "outputs": [],
   "source": []
  },
  {
   "cell_type": "markdown",
   "metadata": {},
   "source": [
    "# First Model - One Step"
   ]
  },
  {
   "cell_type": "code",
   "execution_count": 21,
   "metadata": {},
   "outputs": [],
   "source": [
    "model = RandomForestRegressor(n_estimators=1000, n_jobs=-1, random_state=0)"
   ]
  },
  {
   "cell_type": "code",
   "execution_count": 22,
   "metadata": {},
   "outputs": [],
   "source": [
    "steps_1 = [('1_step',ToSupervised('Sales','Product_Code',1)),\n",
    "         ('1_step_diff',ToSupervisedDiff('1_Week_Ago_Sales','Product_Code',1,dropna=True)),\n",
    "         ('predic_1',TimeSeriesRegressor(model=model,cv=kf,scoring=rmsle))]\n",
    "super_1_p = Pipeline(steps_1).fit(df)"
   ]
  },
  {
   "cell_type": "code",
   "execution_count": 23,
   "metadata": {},
   "outputs": [
    {
     "name": "stdout",
     "output_type": "stream",
     "text": [
      "Fold: 0, Error: 0.4624\n",
      "Fold: 1, Error: 0.4596\n",
      "Fold: 2, Error: 0.4617\n",
      "Fold: 3, Error: 0.4666\n",
      "Fold: 4, Error: 0.4712\n",
      "Fold: 5, Error: 0.4310\n",
      "Fold: 6, Error: 0.4718\n",
      "Fold: 7, Error: 0.4494\n",
      "Fold: 8, Error: 0.4608\n",
      "Fold: 9, Error: 0.4470\n",
      "Fold: 10, Error: 0.4746\n",
      "Fold: 11, Error: 0.4865\n",
      "Total Error 0.4619\n"
     ]
    }
   ],
   "source": [
    "Model_1_Error = super_1_p.score(df)"
   ]
  },
  {
   "cell_type": "code",
   "execution_count": null,
   "metadata": {},
   "outputs": [],
   "source": []
  },
  {
   "cell_type": "markdown",
   "metadata": {},
   "source": [
    "# Second Model - Four Steps"
   ]
  },
  {
   "cell_type": "code",
   "execution_count": 24,
   "metadata": {},
   "outputs": [],
   "source": [
    "steps_3 = [('1_step',ToSupervised('Sales','Product_Code',3)),\n",
    "         ('1_step_diff',ToSupervisedDiff('1_Week_Ago_Sales','Product_Code',1)),\n",
    "         ('2_step_diff',ToSupervisedDiff('2_Week_Ago_Sales','Product_Code',1)),\n",
    "         ('3_step_diff',ToSupervisedDiff('3_Week_Ago_Sales','Product_Code',1,dropna=True)),\n",
    "         ('predic_3',TimeSeriesRegressor(model=model,cv=kf,scoring=rmsle))]\n",
    "super_3_p = Pipeline(steps_3).fit(df)"
   ]
  },
  {
   "cell_type": "code",
   "execution_count": 25,
   "metadata": {},
   "outputs": [
    {
     "name": "stdout",
     "output_type": "stream",
     "text": [
      "Fold: 0, Error: 0.4312\n",
      "Fold: 1, Error: 0.4385\n",
      "Fold: 2, Error: 0.4274\n",
      "Fold: 3, Error: 0.4194\n",
      "Fold: 4, Error: 0.4479\n",
      "Fold: 5, Error: 0.4070\n",
      "Fold: 6, Error: 0.4395\n",
      "Fold: 7, Error: 0.4333\n",
      "Fold: 8, Error: 0.4387\n",
      "Fold: 9, Error: 0.4305\n",
      "Fold: 10, Error: 0.4591\n",
      "Fold: 11, Error: 0.4534\n",
      "Total Error 0.4355\n"
     ]
    }
   ],
   "source": [
    "Model_3_Error = super_3_p.score(df)"
   ]
  },
  {
   "cell_type": "code",
   "execution_count": null,
   "metadata": {},
   "outputs": [],
   "source": []
  },
  {
   "cell_type": "markdown",
   "metadata": {},
   "source": [
    "# Change the Target Distribution"
   ]
  },
  {
   "cell_type": "code",
   "execution_count": 26,
   "metadata": {},
   "outputs": [],
   "source": [
    "steps_3_log = [('1_step',ToSupervised('Sales','Product_Code',3)),\n",
    "         ('1_step_diff',ToSupervisedDiff('1_Week_Ago_Sales','Product_Code',1)),\n",
    "         ('2_step_diff',ToSupervisedDiff('2_Week_Ago_Sales','Product_Code',1)),\n",
    "         ('3_step_diff',ToSupervisedDiff('3_Week_Ago_Sales','Product_Code',1,dropna=True)),\n",
    "         ('predic_3',TimeSeriesRegressorLog(model=model,cv=kf,scoring=rmsle))]\n",
    "super_3_p_log = Pipeline(steps_3_log).fit(df)"
   ]
  },
  {
   "cell_type": "code",
   "execution_count": 27,
   "metadata": {},
   "outputs": [
    {
     "name": "stdout",
     "output_type": "stream",
     "text": [
      "Fold: 0, Error: 0.4168\n",
      "Fold: 1, Error: 0.4221\n",
      "Fold: 2, Error: 0.4125\n",
      "Fold: 3, Error: 0.4035\n",
      "Fold: 4, Error: 0.4332\n",
      "Fold: 5, Error: 0.3977\n",
      "Fold: 6, Error: 0.4263\n",
      "Fold: 7, Error: 0.4122\n",
      "Fold: 8, Error: 0.4301\n",
      "Fold: 9, Error: 0.4375\n",
      "Fold: 10, Error: 0.4462\n",
      "Fold: 11, Error: 0.4727\n",
      "Total Error 0.4259\n"
     ]
    }
   ],
   "source": [
    "Model_3_Log_Error = super_3_p_log.score(df)"
   ]
  },
  {
   "cell_type": "markdown",
   "metadata": {},
   "source": [
    "# LightGBM Model"
   ]
  },
  {
   "cell_type": "code",
   "execution_count": 28,
   "metadata": {},
   "outputs": [],
   "source": [
    "model_lgb = LGBMRegressor(n_estimators=1000, learning_rate=0.01)\n",
    "steps_3_log_lgbm = [('1_step',ToSupervised('Sales','Product_Code',3)),\n",
    "         ('1_step_diff',ToSupervisedDiff('1_Week_Ago_Sales','Product_Code',1)),\n",
    "         ('2_step_diff',ToSupervisedDiff('2_Week_Ago_Sales','Product_Code',1)),\n",
    "         ('3_step_diff',ToSupervisedDiff('3_Week_Ago_Sales','Product_Code',1,dropna=True)),\n",
    "         ('predic_3',TimeSeriesRegressorLog(model=model_lgb ,cv=kf,scoring=rmsle))]\n",
    "super_3_p_log_lgbm = Pipeline(steps_3_log_lgbm).fit(df)"
   ]
  },
  {
   "cell_type": "code",
   "execution_count": 29,
   "metadata": {},
   "outputs": [
    {
     "name": "stdout",
     "output_type": "stream",
     "text": [
      "Fold: 0, Error: 0.4081\n",
      "Fold: 1, Error: 0.3980\n",
      "Fold: 2, Error: 0.3953\n",
      "Fold: 3, Error: 0.3949\n",
      "Fold: 4, Error: 0.4202\n",
      "Fold: 5, Error: 0.3768\n",
      "Fold: 6, Error: 0.4039\n",
      "Fold: 7, Error: 0.3868\n",
      "Fold: 8, Error: 0.3984\n",
      "Fold: 9, Error: 0.4075\n",
      "Fold: 10, Error: 0.4209\n",
      "Fold: 11, Error: 0.4520\n",
      "Total Error 0.4052\n"
     ]
    }
   ],
   "source": [
    "Model_3_Log_Error = super_3_p_log_lgbm.score(df)"
   ]
  },
  {
   "cell_type": "markdown",
   "metadata": {},
   "source": [
    "# Tuning Number of Steps"
   ]
  },
  {
   "cell_type": "code",
   "execution_count": 30,
   "metadata": {},
   "outputs": [
    {
     "name": "stderr",
     "output_type": "stream",
     "text": [
      "100%|██████████| 20/20 [05:51<00:00, 20.17s/it]\n"
     ]
    }
   ],
   "source": [
    "model_lgbm = LGBMRegressor(n_estimators=1000, learning_rate=0.01)\n",
    "list_scores2 = stepsTune(df,\n",
    "                         TimeSeriesRegressorLog(model=model_lgbm,scoring=rmsle,\n",
    "                                             cv=kf,verbosity=False),20)\n"
   ]
  },
  {
   "cell_type": "code",
   "execution_count": null,
   "metadata": {},
   "outputs": [],
   "source": []
  },
  {
   "cell_type": "code",
   "execution_count": 31,
   "metadata": {},
   "outputs": [
    {
     "data": {
      "text/plain": [
       "Text(0.5,1,'Steps Tuning')"
      ]
     },
     "execution_count": 31,
     "metadata": {},
     "output_type": "execute_result"
    },
    {
     "data": {
      "image/png": "[encoded data removed]",
      "text/plain": [
       "<Figure size 720x432 with 1 Axes>"
      ]
     },
     "metadata": {},
     "output_type": "display_data"
    }
   ],
   "source": [
    "plt.figure(figsize=(10,6))\n",
    "x = [i[0] for i in list_scores2]\n",
    "y = [i[1] for i in list_scores2]\n",
    "plt.plot(x,y,color='green', marker='o', linestyle='dashed',\n",
    "        linewidth=2, markersize=12)\n",
    "plt.xticks(np.arange(0, 21, step=1))\n",
    "plt.xlabel('Steps',fontsize=14)\n",
    "plt.ylabel('RMSLE',fontsize=14)\n",
    "plt.title('Steps Tuning',fontsize=18)"
   ]
  },
  {
   "cell_type": "code",
   "execution_count": null,
   "metadata": {},
   "outputs": [],
   "source": []
  },
  {
   "cell_type": "markdown",
   "metadata": {},
   "source": [
    "# Tune Hyperparameters"
   ]
  },
  {
   "cell_type": "code",
   "execution_count": null,
   "metadata": {},
   "outputs": [],
   "source": []
  },
  {
   "cell_type": "code",
   "execution_count": 32,
   "metadata": {},
   "outputs": [],
   "source": [
    "params = {'n_estimators':[100,500,1000,1500,2000],\n",
    "         'learning_rate':[0.005,.01,.1]}\n",
    "\n",
    "steps_20 = getDataFramePipeline(20)\n",
    "super_20 = Pipeline(steps_20).fit_transform(df)\n",
    "\n",
    "\n",
    "model_lgbm2 = LGBMRegressor(random_state=0)\n",
    "tune_lgbm =TimeSeriesGridSearch(model = model_lgbm2, cv = kf,param_grid=params,verbosity=False,scoring=rmsle)"
   ]
  },
  {
   "cell_type": "code",
   "execution_count": 33,
   "metadata": {},
   "outputs": [],
   "source": [
    "tt = tune_lgbm.fit(super_20).score()"
   ]
  },
  {
   "cell_type": "code",
   "execution_count": null,
   "metadata": {},
   "outputs": [],
   "source": []
  },
  {
   "cell_type": "code",
   "execution_count": null,
   "metadata": {},
   "outputs": [],
   "source": []
  },
  {
   "cell_type": "markdown",
   "metadata": {},
   "source": [
    "# Prediction vs. Real Sales"
   ]
  },
  {
   "cell_type": "code",
   "execution_count": null,
   "metadata": {},
   "outputs": [],
   "source": []
  },
  {
   "cell_type": "code",
   "execution_count": 34,
   "metadata": {},
   "outputs": [],
   "source": [
    "kf_51 = Kfold_time(target='Sales',date_col = 'Week',date_init=51,date_final=52)"
   ]
  },
  {
   "cell_type": "code",
   "execution_count": 35,
   "metadata": {},
   "outputs": [],
   "source": [
    "best_param = tune_lgbm.best_estimator()\n",
    "model_lgbmf = LGBMRegressor(**best_param,random_state=0)\n",
    "\n",
    "T_51 = TimeSeriesRegressorLog(model=model_lgbmf ,scoring=rmsle,\n",
    "                                             cv=kf_51,verbosity=False)\n",
    "T_51.fit(super_20)\n",
    "prediction_51 =T_51.predict(super_20)"
   ]
  },
  {
   "cell_type": "code",
   "execution_count": 36,
   "metadata": {},
   "outputs": [
    {
     "data": {
      "text/html": [
       "<div>\n",
       "<style scoped>\n",
       "    .dataframe tbody tr th:only-of-type {\n",
       "        vertical-align: middle;\n",
       "    }\n",
       "\n",
       "    .dataframe tbody tr th {\n",
       "        vertical-align: top;\n",
       "    }\n",
       "\n",
       "    .dataframe thead th {\n",
       "        text-align: right;\n",
       "    }\n",
       "</style>\n",
       "<table border=\"1\" class=\"dataframe\">\n",
       "  <thead>\n",
       "    <tr style=\"text-align: right;\">\n",
       "      <th></th>\n",
       "      <th>0_fold</th>\n",
       "    </tr>\n",
       "  </thead>\n",
       "  <tbody>\n",
       "    <tr>\n",
       "      <th>0</th>\n",
       "      <td>9.141751</td>\n",
       "    </tr>\n",
       "    <tr>\n",
       "      <th>1</th>\n",
       "      <td>4.073397</td>\n",
       "    </tr>\n",
       "    <tr>\n",
       "      <th>2</th>\n",
       "      <td>8.553865</td>\n",
       "    </tr>\n",
       "    <tr>\n",
       "      <th>3</th>\n",
       "      <td>8.546964</td>\n",
       "    </tr>\n",
       "    <tr>\n",
       "      <th>4</th>\n",
       "      <td>8.476343</td>\n",
       "    </tr>\n",
       "  </tbody>\n",
       "</table>\n",
       "</div>"
      ],
      "text/plain": [
       "     0_fold\n",
       "0  9.141751\n",
       "1  4.073397\n",
       "2  8.553865\n",
       "3  8.546964\n",
       "4  8.476343"
      ]
     },
     "execution_count": 36,
     "metadata": {},
     "output_type": "execute_result"
    }
   ],
   "source": [
    "prediction_51.head()"
   ]
  },
  {
   "cell_type": "code",
   "execution_count": 37,
   "metadata": {},
   "outputs": [
    {
     "data": {
      "image/png": "[encoded data removed]",
      "text/plain": [
       "<Figure size 576x576 with 1 Axes>"
      ]
     },
     "metadata": {},
     "output_type": "display_data"
    }
   ],
   "source": [
    "plt.figure(figsize=(8,8))\n",
    "plt.scatter(prediction_51['0_fold'],df[df['Week']==51]['Sales'])\n",
    "plt.xlabel('Sales',fontsize=14)\n",
    "plt.ylabel('Prediction',fontsize=14)\n",
    "plt.xlim((-1,40))\n",
    "plt.ylim((-1,40))\n",
    "plt.title('Prediction vs Sales for Week 52',fontsize=18)\n",
    "plt.show()"
   ]
  },
  {
   "cell_type": "code",
   "execution_count": null,
   "metadata": {},
   "outputs": [],
   "source": []
  },
  {
   "cell_type": "code",
   "execution_count": 38,
   "metadata": {},
   "outputs": [
    {
     "data": {
      "image/png": "[encoded data removed]",
      "text/plain": [
       "<Figure size 576x576 with 1 Axes>"
      ]
     },
     "metadata": {},
     "output_type": "display_data"
    }
   ],
   "source": [
    "models=['Baseline','First Model','Second Model','Log Trans','LGBM','Tuning']\n",
    "models_erros = [0.516,0.4619,0.4355,0.4259,0.4052,0.3868]\n",
    "plt.figure(figsize=(8,8))\n",
    "plt.plot(np.arange(6),models_erros,color='red', marker='o', linestyle='dashed',\n",
    "        linewidth=2, markersize=12)\n",
    "plt.xticks(np.arange(6), models)\n",
    "plt.xlabel('Models',fontsize=14)\n",
    "plt.ylabel('RMSLE',fontsize=14)\n",
    "plt.title('Models Score',fontsize=18)\n",
    "plt.show()"
   ]
  },
  {
   "cell_type": "code",
   "execution_count": null,
   "metadata": {},
   "outputs": [],
   "source": []
  },
  {
   "cell_type": "code",
   "execution_count": 39,
   "metadata": {},
   "outputs": [
    {
     "name": "stdout",
     "output_type": "stream",
     "text": [
      "Error reduce:  25.038759689922486\n"
     ]
    }
   ],
   "source": [
    "print('Error reduce: ',(0.516 - 0.3868)/0.516*100)"
   ]
  },
  {
   "cell_type": "code",
   "execution_count": null,
   "metadata": {},
   "outputs": [],
   "source": []
  },
  {
   "cell_type": "code",
   "execution_count": null,
   "metadata": {},
   "outputs": [],
   "source": []
  },
  {
   "cell_type": "code",
   "execution_count": null,
   "metadata": {},
   "outputs": [],
   "source": []
  },
  {
   "cell_type": "code",
   "execution_count": null,
   "metadata": {},
   "outputs": [],
   "source": []
  },
  {
   "cell_type": "code",
   "execution_count": null,
   "metadata": {},
   "outputs": [],
   "source": []
  }
 ],
 "metadata": {
  "kernelspec": {
   "display_name": "Python 3",
   "language": "python",
   "name": "python3"
  },
  "language_info": {
   "codemirror_mode": {
    "name": "ipython",
    "version": 3
   },
   "file_extension": ".py",
   "mimetype": "text/x-python",
   "name": "python",
   "nbconvert_exporter": "python",
   "pygments_lexer": "ipython3",
   "version": "3.6.8"
  }
 },
 "nbformat": 4,
 "nbformat_minor": 2
}
