{
 "cells": [
  {
   "cell_type": "code",
   "execution_count": 139,
   "id": "5cc12aea",
   "metadata": {},
   "outputs": [],
   "source": [
    "import pandas as pd\n",
    "import numpy as np\n",
    "import torch \n",
    "import torch.nn as  nn\n",
    "from torch.utils.data import TensorDataset, DataLoader\n",
    "from torch.optim.lr_scheduler import ReduceLROnPlateau\n",
    "from sklearn.preprocessing import StandardScaler\n",
    "import time\n",
    "from tqdm.autonotebook import tqdm, trange\n",
    "import matplotlib.pyplot as plt\n",
    "\n",
    "device = 'cuda' if torch.cuda.is_available() else 'cpu'\n",
    "\n",
    "companies = ['GAZP', 'SBER', 'LKOH', 'GMKN', 'MGNT',\n",
    "       'TATN', 'NVTK', 'SNGS', 'PLZL', 'SNGSP',\n",
    "       'PIKK', 'ROSN', 'SBERP', 'CHMF', 'NLMK',\n",
    "       'IRAO', 'YNDX', 'ALRS', 'RUAL', 'MTSS',\n",
    "       'MAGN', 'PHOR', 'RTKM', 'VTBR', 'TATNP',\n",
    "       'TCSG', 'AGRO', 'OZON', 'AFLT', 'AFKS',\n",
    "       'FEES', 'TRNFP', 'CBOM', 'VKCO', 'ENPG',\n",
    "       'SGZH', 'FIVE', 'POLY', 'MOEX', 'GLTR',\n",
    "       'HYDR', 'FIXP']\n",
    "\n",
    "\n",
    "def hour2time(hour):\n",
    "    if hour == 1:\n",
    "        res = '11:00:00'\n",
    "    elif hour == 2:\n",
    "        res = '12:00:00'\n",
    "    elif hour == 3:\n",
    "        res = '13:00:00'\n",
    "    elif hour == 4:\n",
    "        res = '14:00:00'\n",
    "    elif hour == 5:\n",
    "        res = '15:00:00'\n",
    "    elif hour == 6:\n",
    "        res = '16:00:00'\n",
    "    elif hour == 7:\n",
    "        res = '17:00:00'\n",
    "    elif hour == 8:\n",
    "        res = '18:00:00'\n",
    "    elif hour == 9:\n",
    "        res = '18:45:00'\n",
    "    return res"
   ]
  },
  {
   "cell_type": "code",
   "execution_count": 144,
   "id": "23624d72",
   "metadata": {},
   "outputs": [],
   "source": [
    "path = '~/Рабочий стол/ДИПЛОМ НОУТБУКИ/DL forcasitng diplom/Данные Мосбиржа/Total_MOEX_(NEW)hourly_with_time_df'\n",
    "total_df = pd.read_csv(path, index_col='tradedate')"
   ]
  },
  {
   "cell_type": "code",
   "execution_count": 145,
   "id": "b5dda719",
   "metadata": {},
   "outputs": [],
   "source": [
    "total_df = total_df[ ('2023-02-03'<=total_df.index) * (total_df.index<= '2023-10-30')]"
   ]
  },
  {
   "cell_type": "code",
   "execution_count": 146,
   "id": "79a3225f",
   "metadata": {},
   "outputs": [],
   "source": [
    "total_df['date'] = total_df.index\n",
    "\n",
    "res = []\n",
    "for i in range(total_df.shape[0]):\n",
    "    res.append(np.mean((total_df.close[i], total_df.open[i]) ) )\n",
    "total_df['mean_price'] = res   \n",
    "total_df['vol_in_rub'] = total_df.vol * total_df.mean_price"
   ]
  },
  {
   "cell_type": "code",
   "execution_count": 148,
   "id": "5062969f",
   "metadata": {},
   "outputs": [],
   "source": [
    "total_df\n",
    "\n",
    "res = [1]\n",
    "h = 2\n",
    "for i in range(1, 68639):\n",
    "    if total_df.iloc[i,3] == total_df.iloc[i-1,3]:\n",
    "        res.append(h)\n",
    "        h+=1\n",
    "    if total_df.iloc[i,3] != total_df.iloc[i-1,3]:\n",
    "        h=1\n",
    "        res.append(h)\n",
    "        h+=1\n",
    "total_df['hour'] = res"
   ]
  },
  {
   "cell_type": "code",
   "execution_count": 149,
   "id": "92176483",
   "metadata": {},
   "outputs": [],
   "source": [
    "volumes = total_df.groupby('date').aggregate({'vol_in_rub':'sum'})"
   ]
  },
  {
   "cell_type": "code",
   "execution_count": 150,
   "id": "48779ecb",
   "metadata": {},
   "outputs": [],
   "source": [
    "volumes.to_csv('market_volumes')"
   ]
  },
  {
   "cell_type": "code",
   "execution_count": null,
   "id": "1b486478",
   "metadata": {},
   "outputs": [],
   "source": []
  },
  {
   "cell_type": "markdown",
   "id": "6fd750ca",
   "metadata": {},
   "source": [
    "# Closes"
   ]
  },
  {
   "cell_type": "code",
   "execution_count": 120,
   "id": "d26818f7",
   "metadata": {},
   "outputs": [],
   "source": [
    "df = pd.read_csv('backtest_data').rename(columns={'Unnamed: 0':'date'})"
   ]
  },
  {
   "cell_type": "code",
   "execution_count": 121,
   "id": "9f3503f1",
   "metadata": {},
   "outputs": [],
   "source": [
    "dd = df['date'].iloc[:,1]\n",
    "df = df.drop(columns='date')\n",
    "df['date'] = dd"
   ]
  },
  {
   "cell_type": "code",
   "execution_count": 122,
   "id": "a593aaf0",
   "metadata": {},
   "outputs": [],
   "source": [
    "bad_days = df.groupby('date').aggregate({'Asset':'count'}).query(\"Asset < 200\").index"
   ]
  },
  {
   "cell_type": "code",
   "execution_count": 123,
   "id": "afe92c0f",
   "metadata": {},
   "outputs": [],
   "source": [
    "for i in range(0,len(bad_days)):    \n",
    "    df = df[df.date != bad_days[i]]"
   ]
  },
  {
   "cell_type": "code",
   "execution_count": 124,
   "id": "22e26b5a",
   "metadata": {},
   "outputs": [
    {
     "name": "stderr",
     "output_type": "stream",
     "text": [
      "/tmp/ipykernel_8281/3486096165.py:2: FutureWarning: In a future version of pandas all arguments of DataFrame.drop except for the argument 'labels' will be keyword-only.\n",
      "  df.drop(['date','hour','pct_pred','pct_fact','Pred'],1,inplace=True)\n"
     ]
    }
   ],
   "source": [
    "df['Date'] = pd.to_datetime(df.date + ' ' + df.hour.apply(hour2time) )\n",
    "df.drop(['date','hour','pct_pred','pct_fact','Pred'],1,inplace=True)"
   ]
  },
  {
   "cell_type": "code",
   "execution_count": 125,
   "id": "8045976d",
   "metadata": {},
   "outputs": [],
   "source": [
    "pivot_df = df.pivot(index='Date', columns='Asset', values='Fact')\n",
    "\n",
    "\n",
    "# Заменим названия колонок для удобства\n",
    "pivot_df.columns.name = None"
   ]
  },
  {
   "cell_type": "code",
   "execution_count": 127,
   "id": "496f4b71",
   "metadata": {},
   "outputs": [],
   "source": [
    "pivot_df.to_csv('cvxportfolio_fact_closes')"
   ]
  },
  {
   "cell_type": "code",
   "execution_count": null,
   "id": "f61cd0a1",
   "metadata": {},
   "outputs": [],
   "source": []
  },
  {
   "cell_type": "markdown",
   "id": "3877b25b",
   "metadata": {},
   "source": [
    "# Returns"
   ]
  },
  {
   "cell_type": "code",
   "execution_count": 128,
   "id": "31a01698",
   "metadata": {},
   "outputs": [],
   "source": [
    "df = pd.read_csv('backtest_data').rename(columns={'Unnamed: 0':'date'})"
   ]
  },
  {
   "cell_type": "code",
   "execution_count": 129,
   "id": "678bb6cd",
   "metadata": {},
   "outputs": [],
   "source": [
    "dd = df['date'].iloc[:,1]\n",
    "df = df.drop(columns='date')\n",
    "df['date'] = dd"
   ]
  },
  {
   "cell_type": "code",
   "execution_count": 130,
   "id": "ee9ec29d",
   "metadata": {},
   "outputs": [],
   "source": [
    "bad_days = df.groupby('date').aggregate({'Asset':'count'}).query(\"Asset < 200\").index"
   ]
  },
  {
   "cell_type": "code",
   "execution_count": 131,
   "id": "52440420",
   "metadata": {},
   "outputs": [],
   "source": [
    "for i in range(0,len(bad_days)):    \n",
    "    df = df[df.date != bad_days[i]]"
   ]
  },
  {
   "cell_type": "code",
   "execution_count": 134,
   "id": "407fef5f",
   "metadata": {},
   "outputs": [
    {
     "name": "stderr",
     "output_type": "stream",
     "text": [
      "/tmp/ipykernel_8281/2968876676.py:3: FutureWarning: In a future version of pandas all arguments of DataFrame.drop except for the argument 'labels' will be keyword-only.\n",
      "  df.drop(['date','hour','pct_fact','Pred','Fact'],1,inplace=True)\n"
     ]
    }
   ],
   "source": [
    "df['Date'] = pd.to_datetime(df.date + ' ' + df.hour.apply(hour2time) )\n",
    "\n",
    "df.drop(['date','hour','pct_fact','Pred','Fact'],1,inplace=True)"
   ]
  },
  {
   "cell_type": "code",
   "execution_count": 136,
   "id": "b04fe357",
   "metadata": {},
   "outputs": [],
   "source": [
    "pivot_df = df.pivot(index='Date', columns='Asset', values='pct_pred')\n",
    "\n",
    "\n",
    "# Заменим названия колонок для удобства\n",
    "pivot_df.columns.name = None"
   ]
  },
  {
   "cell_type": "code",
   "execution_count": 138,
   "id": "44fd297d",
   "metadata": {},
   "outputs": [],
   "source": [
    "pivot_df.to_csv('cvxportfolio_pred_returns')"
   ]
  },
  {
   "cell_type": "code",
   "execution_count": null,
   "id": "ec6e757e",
   "metadata": {},
   "outputs": [],
   "source": []
  },
  {
   "cell_type": "code",
   "execution_count": null,
   "id": "2bb17688",
   "metadata": {},
   "outputs": [],
   "source": []
  },
  {
   "cell_type": "code",
   "execution_count": null,
   "id": "d0a4b471",
   "metadata": {},
   "outputs": [],
   "source": []
  },
  {
   "cell_type": "code",
   "execution_count": null,
   "id": "dfafd89e",
   "metadata": {},
   "outputs": [],
   "source": []
  },
  {
   "cell_type": "code",
   "execution_count": null,
   "id": "4a176921",
   "metadata": {},
   "outputs": [],
   "source": []
  }
 ],
 "metadata": {
  "kernelspec": {
   "display_name": "Python 3 (ipykernel)",
   "language": "python",
   "name": "python3"
  },
  "language_info": {
   "codemirror_mode": {
    "name": "ipython",
    "version": 3
   },
   "file_extension": ".py",
   "mimetype": "text/x-python",
   "name": "python",
   "nbconvert_exporter": "python",
   "pygments_lexer": "ipython3",
   "version": "3.11.3"
  }
 },
 "nbformat": 4,
 "nbformat_minor": 5
}
