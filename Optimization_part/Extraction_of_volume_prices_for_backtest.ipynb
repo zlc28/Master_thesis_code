{
 "cells": [
  {
   "cell_type": "code",
   "execution_count": 23,
   "id": "5cc12aea",
   "metadata": {},
   "outputs": [],
   "source": [
    "import pandas as pd\n",
    "import numpy as np\n",
    "import torch \n",
    "import torch.nn as  nn\n",
    "from torch.utils.data import TensorDataset, DataLoader\n",
    "from torch.optim.lr_scheduler import ReduceLROnPlateau\n",
    "from sklearn.preprocessing import StandardScaler\n",
    "import time\n",
    "from tqdm.autonotebook import tqdm, trange\n",
    "import matplotlib.pyplot as plt\n",
    "import seaborn as sns\n",
    "\n",
    "device = 'cuda' if torch.cuda.is_available() else 'cpu'\n",
    "\n",
    "companies = ['GAZP', 'SBER', 'LKOH', 'GMKN', 'MGNT',\n",
    "       'TATN', 'NVTK', 'SNGS', 'PLZL', 'SNGSP',\n",
    "       'PIKK', 'ROSN', 'SBERP', 'CHMF', 'NLMK',\n",
    "       'IRAO', 'YNDX', 'ALRS', 'RUAL', 'MTSS',\n",
    "       'MAGN', 'PHOR', 'RTKM', 'VTBR', 'TATNP',\n",
    "       'TCSG', 'AGRO', 'OZON', 'AFLT', 'AFKS',\n",
    "       'FEES', 'TRNFP', 'CBOM', 'VKCO', 'ENPG',\n",
    "       'SGZH', 'FIVE', 'POLY', 'MOEX', 'GLTR',\n",
    "       'HYDR', 'FIXP']\n",
    "\n",
    "\n",
    "def hour2time(hour):\n",
    "    if hour == 1:\n",
    "        res = '11:00:00'\n",
    "    elif hour == 2:\n",
    "        res = '12:00:00'\n",
    "    elif hour == 3:\n",
    "        res = '13:00:00'\n",
    "    elif hour == 4:\n",
    "        res = '14:00:00'\n",
    "    elif hour == 5:\n",
    "        res = '15:00:00'\n",
    "    elif hour == 6:\n",
    "        res = '16:00:00'\n",
    "    elif hour == 7:\n",
    "        res = '17:00:00'\n",
    "    elif hour == 8:\n",
    "        res = '18:00:00'\n",
    "    elif hour == 9:\n",
    "        res = '18:45:00'\n",
    "    return res"
   ]
  },
  {
   "cell_type": "code",
   "execution_count": 2,
   "id": "23624d72",
   "metadata": {},
   "outputs": [],
   "source": [
    "path = '~/Рабочий стол/ДИПЛОМ НОУТБУКИ/DL forcasitng diplom/Данные Мосбиржа/Total_MOEX_(NEW)hourly_with_time_df'\n",
    "total_df = pd.read_csv(path, index_col='tradedate')"
   ]
  },
  {
   "cell_type": "code",
   "execution_count": 4,
   "id": "b5dda719",
   "metadata": {},
   "outputs": [],
   "source": [
    "total_df = total_df[ ('2023-02-03'<=total_df.index) * (total_df.index<= '2023-10-30')]"
   ]
  },
  {
   "cell_type": "code",
   "execution_count": 146,
   "id": "79a3225f",
   "metadata": {},
   "outputs": [],
   "source": [
    "total_df['date'] = total_df.index\n",
    "\n",
    "res = []\n",
    "for i in range(total_df.shape[0]):\n",
    "    res.append(np.mean((total_df.close[i], total_df.open[i]) ) )\n",
    "total_df['mean_price'] = res   \n",
    "total_df['vol_in_rub'] = total_df.vol * total_df.mean_price"
   ]
  },
  {
   "cell_type": "code",
   "execution_count": 148,
   "id": "5062969f",
   "metadata": {},
   "outputs": [],
   "source": [
    "total_df\n",
    "\n",
    "res = [1]\n",
    "h = 2\n",
    "for i in range(1, 68639):\n",
    "    if total_df.iloc[i,3] == total_df.iloc[i-1,3]:\n",
    "        res.append(h)\n",
    "        h+=1\n",
    "    if total_df.iloc[i,3] != total_df.iloc[i-1,3]:\n",
    "        h=1\n",
    "        res.append(h)\n",
    "        h+=1\n",
    "total_df['hour'] = res"
   ]
  },
  {
   "cell_type": "code",
   "execution_count": 149,
   "id": "92176483",
   "metadata": {},
   "outputs": [],
   "source": [
    "volumes = total_df.groupby('date').aggregate({'vol_in_rub':'sum'})"
   ]
  },
  {
   "cell_type": "code",
   "execution_count": 150,
   "id": "48779ecb",
   "metadata": {},
   "outputs": [],
   "source": [
    "volumes.to_csv('market_volumes')"
   ]
  },
  {
   "cell_type": "code",
   "execution_count": null,
   "id": "1b486478",
   "metadata": {},
   "outputs": [],
   "source": []
  },
  {
   "cell_type": "markdown",
   "id": "6fd750ca",
   "metadata": {},
   "source": [
    "# Closes"
   ]
  },
  {
   "cell_type": "code",
   "execution_count": 61,
   "id": "d26818f7",
   "metadata": {},
   "outputs": [
    {
     "data": {
      "text/html": [
       "<div>\n",
       "<style scoped>\n",
       "    .dataframe tbody tr th:only-of-type {\n",
       "        vertical-align: middle;\n",
       "    }\n",
       "\n",
       "    .dataframe tbody tr th {\n",
       "        vertical-align: top;\n",
       "    }\n",
       "\n",
       "    .dataframe thead th {\n",
       "        text-align: right;\n",
       "    }\n",
       "</style>\n",
       "<table border=\"1\" class=\"dataframe\">\n",
       "  <thead>\n",
       "    <tr style=\"text-align: right;\">\n",
       "      <th></th>\n",
       "      <th>date</th>\n",
       "      <th>Asset</th>\n",
       "      <th>Pred</th>\n",
       "      <th>Fact</th>\n",
       "      <th>date</th>\n",
       "      <th>hour</th>\n",
       "      <th>pct_pred</th>\n",
       "      <th>pct_fact</th>\n",
       "    </tr>\n",
       "  </thead>\n",
       "  <tbody>\n",
       "    <tr>\n",
       "      <th>0</th>\n",
       "      <td>2023-02-06</td>\n",
       "      <td>GAZP</td>\n",
       "      <td>157.116934</td>\n",
       "      <td>156.369999</td>\n",
       "      <td>2023-02-06</td>\n",
       "      <td>1</td>\n",
       "      <td>0.0</td>\n",
       "      <td>0.0</td>\n",
       "    </tr>\n",
       "  </tbody>\n",
       "</table>\n",
       "</div>"
      ],
      "text/plain": [
       "         date Asset        Pred        Fact        date  hour  pct_pred  \\\n",
       "0  2023-02-06  GAZP  157.116934  156.369999  2023-02-06     1       0.0   \n",
       "\n",
       "   pct_fact  \n",
       "0       0.0  "
      ]
     },
     "execution_count": 61,
     "metadata": {},
     "output_type": "execute_result"
    }
   ],
   "source": [
    "df = pd.read_csv('backtest_data').rename(columns={'Unnamed: 0':'date'})\n",
    "df.head(1)"
   ]
  },
  {
   "cell_type": "code",
   "execution_count": 62,
   "id": "9f3503f1",
   "metadata": {},
   "outputs": [],
   "source": [
    "dd = df['date'].iloc[:,1]\n",
    "df = df.drop(columns='date')\n",
    "df['date'] = dd"
   ]
  },
  {
   "cell_type": "code",
   "execution_count": 63,
   "id": "a593aaf0",
   "metadata": {},
   "outputs": [],
   "source": [
    "bad_days = df.groupby('date').aggregate({'Asset':'count'}).query(\"Asset < 200\").index"
   ]
  },
  {
   "cell_type": "code",
   "execution_count": 64,
   "id": "afe92c0f",
   "metadata": {},
   "outputs": [],
   "source": [
    "for i in range(0,len(bad_days)):    \n",
    "    df = df[df.date != bad_days[i]]"
   ]
  },
  {
   "cell_type": "code",
   "execution_count": 65,
   "id": "eab58816",
   "metadata": {},
   "outputs": [
    {
     "data": {
      "text/plain": [
       "0        2023-02-06\n",
       "1        2023-02-06\n",
       "2        2023-02-07\n",
       "3        2023-02-07\n",
       "4        2023-02-07\n",
       "            ...    \n",
       "66263    2023-10-24\n",
       "66264    2023-10-24\n",
       "66265    2023-10-24\n",
       "66266    2023-10-24\n",
       "66267    2023-10-24\n",
       "Name: date, Length: 65181, dtype: object"
      ]
     },
     "execution_count": 65,
     "metadata": {},
     "output_type": "execute_result"
    }
   ],
   "source": [
    "df.date"
   ]
  },
  {
   "cell_type": "code",
   "execution_count": 66,
   "id": "22e26b5a",
   "metadata": {},
   "outputs": [
    {
     "name": "stderr",
     "output_type": "stream",
     "text": [
      "/tmp/ipykernel_8980/3486096165.py:2: FutureWarning: In a future version of pandas all arguments of DataFrame.drop except for the argument 'labels' will be keyword-only.\n",
      "  df.drop(['date','hour','pct_pred','pct_fact','Pred'],1,inplace=True)\n"
     ]
    }
   ],
   "source": [
    "df['Date'] = pd.to_datetime(df.date + ' ' + df.hour.apply(hour2time) )\n",
    "df.drop(['date','hour','pct_pred','pct_fact','Pred'],1,inplace=True)"
   ]
  },
  {
   "cell_type": "code",
   "execution_count": 67,
   "id": "8045976d",
   "metadata": {},
   "outputs": [],
   "source": [
    "pivot_df = df.pivot(index='Date', columns='Asset', values='Fact')\n",
    "\n",
    "\n",
    "# Заменим названия колонок для удобства\n",
    "pivot_df.columns.name = None"
   ]
  },
  {
   "cell_type": "code",
   "execution_count": 127,
   "id": "496f4b71",
   "metadata": {},
   "outputs": [],
   "source": [
    "pivot_df.to_csv('cvxportfolio_fact_closes')"
   ]
  },
  {
   "cell_type": "code",
   "execution_count": null,
   "id": "77850bd8",
   "metadata": {},
   "outputs": [],
   "source": []
  },
  {
   "cell_type": "code",
   "execution_count": null,
   "id": "782be4ed",
   "metadata": {},
   "outputs": [],
   "source": []
  },
  {
   "cell_type": "code",
   "execution_count": null,
   "id": "acba19e0",
   "metadata": {},
   "outputs": [],
   "source": []
  },
  {
   "cell_type": "code",
   "execution_count": null,
   "id": "f61cd0a1",
   "metadata": {},
   "outputs": [],
   "source": []
  },
  {
   "cell_type": "markdown",
   "id": "6241d0df",
   "metadata": {},
   "source": [
    "# Open"
   ]
  },
  {
   "cell_type": "code",
   "execution_count": 85,
   "id": "a56d1f15",
   "metadata": {},
   "outputs": [
    {
     "data": {
      "text/html": [
       "<div>\n",
       "<style scoped>\n",
       "    .dataframe tbody tr th:only-of-type {\n",
       "        vertical-align: middle;\n",
       "    }\n",
       "\n",
       "    .dataframe tbody tr th {\n",
       "        vertical-align: top;\n",
       "    }\n",
       "\n",
       "    .dataframe thead th {\n",
       "        text-align: right;\n",
       "    }\n",
       "</style>\n",
       "<table border=\"1\" class=\"dataframe\">\n",
       "  <thead>\n",
       "    <tr style=\"text-align: right;\">\n",
       "      <th></th>\n",
       "      <th>tradedate</th>\n",
       "      <th>secid</th>\n",
       "      <th>open</th>\n",
       "      <th>close</th>\n",
       "      <th>date</th>\n",
       "      <th>hour</th>\n",
       "    </tr>\n",
       "  </thead>\n",
       "  <tbody>\n",
       "    <tr>\n",
       "      <th>0</th>\n",
       "      <td>2020-01-03</td>\n",
       "      <td>GAZP</td>\n",
       "      <td>259.43</td>\n",
       "      <td>259.1</td>\n",
       "      <td>2020-01-03</td>\n",
       "      <td>1</td>\n",
       "    </tr>\n",
       "  </tbody>\n",
       "</table>\n",
       "</div>"
      ],
      "text/plain": [
       "    tradedate secid    open  close        date  hour\n",
       "0  2020-01-03  GAZP  259.43  259.1  2020-01-03     1"
      ]
     },
     "execution_count": 85,
     "metadata": {},
     "output_type": "execute_result"
    }
   ],
   "source": [
    "df = pd.read_csv('additional_info')\n",
    "df.head(1)"
   ]
  },
  {
   "cell_type": "code",
   "execution_count": 88,
   "id": "bf5076ab",
   "metadata": {},
   "outputs": [],
   "source": [
    "df = df[df['date']>= '2023-02-03']\n",
    "df = df[df['date']<= '2023-10-24']"
   ]
  },
  {
   "cell_type": "code",
   "execution_count": 90,
   "id": "c97c1bcd",
   "metadata": {},
   "outputs": [],
   "source": [
    "df['Date'] = pd.to_datetime(df.date + ' ' + df.hour.apply(hour2time) )"
   ]
  },
  {
   "cell_type": "code",
   "execution_count": 91,
   "id": "02865c6b",
   "metadata": {},
   "outputs": [
    {
     "data": {
      "text/html": [
       "<div>\n",
       "<style scoped>\n",
       "    .dataframe tbody tr th:only-of-type {\n",
       "        vertical-align: middle;\n",
       "    }\n",
       "\n",
       "    .dataframe tbody tr th {\n",
       "        vertical-align: top;\n",
       "    }\n",
       "\n",
       "    .dataframe thead th {\n",
       "        text-align: right;\n",
       "    }\n",
       "</style>\n",
       "<table border=\"1\" class=\"dataframe\">\n",
       "  <thead>\n",
       "    <tr style=\"text-align: right;\">\n",
       "      <th></th>\n",
       "      <th>tradedate</th>\n",
       "      <th>secid</th>\n",
       "      <th>open</th>\n",
       "      <th>close</th>\n",
       "      <th>date</th>\n",
       "      <th>hour</th>\n",
       "      <th>Date</th>\n",
       "    </tr>\n",
       "  </thead>\n",
       "  <tbody>\n",
       "    <tr>\n",
       "      <th>6768</th>\n",
       "      <td>2023-02-03</td>\n",
       "      <td>GAZP</td>\n",
       "      <td>158.54</td>\n",
       "      <td>158.68</td>\n",
       "      <td>2023-02-03</td>\n",
       "      <td>1</td>\n",
       "      <td>2023-02-03 11:00:00</td>\n",
       "    </tr>\n",
       "  </tbody>\n",
       "</table>\n",
       "</div>"
      ],
      "text/plain": [
       "       tradedate secid    open   close        date  hour                Date\n",
       "6768  2023-02-03  GAZP  158.54  158.68  2023-02-03     1 2023-02-03 11:00:00"
      ]
     },
     "execution_count": 91,
     "metadata": {},
     "output_type": "execute_result"
    }
   ],
   "source": [
    "df.head(1)"
   ]
  },
  {
   "cell_type": "code",
   "execution_count": 92,
   "id": "a9e42771",
   "metadata": {},
   "outputs": [
    {
     "name": "stderr",
     "output_type": "stream",
     "text": [
      "/tmp/ipykernel_8980/2395446014.py:1: FutureWarning: In a future version of pandas all arguments of DataFrame.drop except for the argument 'labels' will be keyword-only.\n",
      "  df.drop(['date','hour','close','tradedate'],1,inplace=True)\n"
     ]
    }
   ],
   "source": [
    "df.drop(['date','hour','close','tradedate'],1,inplace=True)"
   ]
  },
  {
   "cell_type": "code",
   "execution_count": 93,
   "id": "e2f6e2ed",
   "metadata": {},
   "outputs": [],
   "source": [
    "pivot_df = df.pivot(index='Date', columns='secid', values='open')\n",
    "\n",
    "\n",
    "# Заменим названия колонок для удобства\n",
    "pivot_df.columns.name = None"
   ]
  },
  {
   "cell_type": "code",
   "execution_count": 95,
   "id": "1e99f7e7",
   "metadata": {},
   "outputs": [],
   "source": [
    "pivot_df.to_csv('cvxportfolio_fact_opens')"
   ]
  },
  {
   "cell_type": "code",
   "execution_count": null,
   "id": "4e5c8701",
   "metadata": {},
   "outputs": [],
   "source": []
  },
  {
   "cell_type": "markdown",
   "id": "3877b25b",
   "metadata": {},
   "source": [
    "# Returns"
   ]
  },
  {
   "cell_type": "code",
   "execution_count": 12,
   "id": "31a01698",
   "metadata": {},
   "outputs": [],
   "source": [
    "df = pd.read_csv('backtest_data').rename(columns={'Unnamed: 0':'date'})"
   ]
  },
  {
   "cell_type": "code",
   "execution_count": 13,
   "id": "678bb6cd",
   "metadata": {},
   "outputs": [],
   "source": [
    "dd = df['date'].iloc[:,1]\n",
    "df = df.drop(columns='date')\n",
    "df['date'] = dd"
   ]
  },
  {
   "cell_type": "code",
   "execution_count": 14,
   "id": "8e44c738",
   "metadata": {
    "scrolled": true
   },
   "outputs": [],
   "source": [
    "df = df[df['date']>= '2023-02-03']\n",
    "df = df[df['date']<= '2023-10-24']"
   ]
  },
  {
   "cell_type": "code",
   "execution_count": 16,
   "id": "ee9ec29d",
   "metadata": {},
   "outputs": [],
   "source": [
    "bad_days = df.groupby('date').aggregate({'Asset':'count'}).query(\"Asset < 200\").index"
   ]
  },
  {
   "cell_type": "code",
   "execution_count": 17,
   "id": "52440420",
   "metadata": {},
   "outputs": [],
   "source": [
    "for i in range(0,len(bad_days)):    \n",
    "    df = df[df.date != bad_days[i]]"
   ]
  },
  {
   "cell_type": "code",
   "execution_count": 19,
   "id": "407fef5f",
   "metadata": {},
   "outputs": [
    {
     "name": "stderr",
     "output_type": "stream",
     "text": [
      "/tmp/ipykernel_6681/2043738883.py:3: FutureWarning: In a future version of pandas all arguments of DataFrame.drop except for the argument 'labels' will be keyword-only.\n",
      "  df.drop(['date','hour','pct_pred','Pred','Fact'],1,inplace=True)\n"
     ]
    }
   ],
   "source": [
    "df['Date'] = pd.to_datetime(df.date + ' ' + df.hour.apply(hour2time) )\n",
    "\n",
    "df.drop(['date','hour','pct_pred','Pred','Fact'],1,inplace=True)"
   ]
  },
  {
   "cell_type": "code",
   "execution_count": 21,
   "id": "b04fe357",
   "metadata": {},
   "outputs": [],
   "source": [
    "pivot_df = df.pivot(index='Date', columns='Asset', values='pct_fact')\n",
    "\n",
    "\n",
    "# Заменим названия колонок для удобства\n",
    "pivot_df.columns.name = None"
   ]
  },
  {
   "cell_type": "code",
   "execution_count": 27,
   "id": "44fd297d",
   "metadata": {},
   "outputs": [],
   "source": [
    "pivot_df.to_csv('cvxportfolio_fact_returns')"
   ]
  },
  {
   "cell_type": "code",
   "execution_count": null,
   "id": "d0a4b471",
   "metadata": {},
   "outputs": [],
   "source": []
  },
  {
   "cell_type": "code",
   "execution_count": null,
   "id": "dfafd89e",
   "metadata": {},
   "outputs": [],
   "source": []
  },
  {
   "cell_type": "code",
   "execution_count": null,
   "id": "4a176921",
   "metadata": {},
   "outputs": [],
   "source": []
  }
 ],
 "metadata": {
  "kernelspec": {
   "display_name": "Python 3 (ipykernel)",
   "language": "python",
   "name": "python3"
  },
  "language_info": {
   "codemirror_mode": {
    "name": "ipython",
    "version": 3
   },
   "file_extension": ".py",
   "mimetype": "text/x-python",
   "name": "python",
   "nbconvert_exporter": "python",
   "pygments_lexer": "ipython3",
   "version": "3.11.3"
  }
 },
 "nbformat": 4,
 "nbformat_minor": 5
}
