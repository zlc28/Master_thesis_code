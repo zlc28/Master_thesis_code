{
 "cells": [
  {
   "cell_type": "code",
   "execution_count": 285,
   "id": "6b4390a4",
   "metadata": {},
   "outputs": [],
   "source": [
    "companies = ['GAZP', 'SBER', 'LKOH', 'GMKN', 'MGNT',  'TATN', 'NVTK', 'SNGS', 'PLZL', 'SNGSP',\n",
    "         'PIKK', 'ROSN', 'SBERP', 'CHMF', 'NLMK', 'IRAO', 'YNDX', 'ALRS', 'RUAL', 'MTSS','MAGN', \n",
    "         'PHOR', 'RTKM', 'VTBR', 'TATNP', 'TCSG', 'AGRO', 'OZON', 'AFLT', 'AFKS','FEES', 'TRNFP',\n",
    "         'CBOM', 'VKCO', 'ENPG', 'SGZH', 'FIVE',  'MOEX', 'GLTR', 'HYDR', 'FIXP']"
   ]
  },
  {
   "cell_type": "code",
   "execution_count": 286,
   "id": "a04ca1a1",
   "metadata": {},
   "outputs": [],
   "source": [
    "import pandas as pd\n",
    "import numpy as np\n",
    "import cvxpy as cvx"
   ]
  },
  {
   "cell_type": "code",
   "execution_count": 242,
   "id": "3b89a6bd",
   "metadata": {},
   "outputs": [],
   "source": [
    "def expected_returns(data, day, hour, companies):\n",
    "    output = np.zeros(len(companies))\n",
    "    preds = data.loc[day, hour]\n",
    "    availible_companies = preds.Asset.values\n",
    "    \n",
    "    for i, company in enumerate(companies):\n",
    "        if company in availible_companies:\n",
    "            output[i] = preds[preds.Asset == company].pct_pred[0]\n",
    "        else:\n",
    "            output[i] = 0\n",
    "    return output\n",
    "\n",
    "def real_returns(data, day, hour, companies):\n",
    "    output = np.zeros(len(companies))\n",
    "    preds = data.loc[day, hour]\n",
    "    availible_companies = preds.Asset.values\n",
    "    \n",
    "    for i, company in enumerate(companies):\n",
    "        if company in availible_companies:\n",
    "            output[i] = preds[preds.Asset == company].pct_fact[0]\n",
    "        else:\n",
    "            output[i] = 0\n",
    "    return output "
   ]
  },
  {
   "cell_type": "code",
   "execution_count": 193,
   "id": "ec4ad071",
   "metadata": {},
   "outputs": [],
   "source": [
    "data = pd.read_csv('backtest_data').rename(columns={'Unnamed: 0':'Date'})\n",
    "\n",
    "data = data[data.Asset != 'POLY']\n",
    "bad_days = list( data.groupby('date').aggregate({'Asset':'count'}).query('Asset < 200').index )\n",
    "\n",
    "\n",
    "for i in range(len(bad_days)):\n",
    "    data = data[data.Date != bad_days[i]]\n",
    "    \n",
    "data.index = [data.date, data.hour]    "
   ]
  },
  {
   "cell_type": "code",
   "execution_count": 197,
   "id": "33b35947",
   "metadata": {},
   "outputs": [],
   "source": [
    "trading_days = sorted(data.date.unique()) #Набор торговых дней с предсказаниями и фактами\n",
    "trading_hours = data.hour.unique()"
   ]
  },
  {
   "cell_type": "code",
   "execution_count": 245,
   "id": "38c3bac8",
   "metadata": {},
   "outputs": [
    {
     "data": {
      "text/plain": [
       "'2023-10-24'"
      ]
     },
     "execution_count": 245,
     "metadata": {},
     "output_type": "execute_result"
    }
   ],
   "source": [
    "day"
   ]
  },
  {
   "cell_type": "code",
   "execution_count": 246,
   "id": "c1763e8d",
   "metadata": {
    "scrolled": true
   },
   "outputs": [
    {
     "data": {
      "text/plain": [
       "1"
      ]
     },
     "execution_count": 246,
     "metadata": {},
     "output_type": "execute_result"
    }
   ],
   "source": [
    "hour"
   ]
  },
  {
   "cell_type": "code",
   "execution_count": 252,
   "id": "e21cf284",
   "metadata": {},
   "outputs": [
    {
     "name": "stderr",
     "output_type": "stream",
     "text": [
      "/tmp/ipykernel_24902/179374125.py:3: PerformanceWarning: indexing past lexsort depth may impact performance.\n",
      "  preds = data.loc[day, hour]\n"
     ]
    }
   ],
   "source": [
    "pred_ret = expected_returns(data, day, hour, companies)"
   ]
  },
  {
   "cell_type": "code",
   "execution_count": 260,
   "id": "d398a511",
   "metadata": {},
   "outputs": [],
   "source": [
    "n = len(companies)"
   ]
  },
  {
   "cell_type": "code",
   "execution_count": 261,
   "id": "8b8475bc",
   "metadata": {},
   "outputs": [],
   "source": [
    "x = cvx.Variable(n)\n",
    "t_cost = np.zeros(len(companies)) + 0.003"
   ]
  },
  {
   "cell_type": "code",
   "execution_count": 262,
   "id": "1bbf3df6",
   "metadata": {},
   "outputs": [],
   "source": [
    "objective = cvx.Maximize( pred_ret@x - t_cost@x )"
   ]
  },
  {
   "cell_type": "code",
   "execution_count": 282,
   "id": "4351e6e7",
   "metadata": {},
   "outputs": [],
   "source": [
    "constraints = [cvx.sum(x) + t_cost@x == 0, cvx.sum(x)==1000] "
   ]
  },
  {
   "cell_type": "code",
   "execution_count": 283,
   "id": "ba83faa9",
   "metadata": {},
   "outputs": [
    {
     "name": "stdout",
     "output_type": "stream",
     "text": [
      "===============================================================================\n",
      "                                     CVXPY                                     \n",
      "                                     v1.3.2                                    \n",
      "===============================================================================\n",
      "(CVXPY) Feb 23 04:35:03 PM: Your problem has 41 variables, 2 constraints, and 0 parameters.\n",
      "(CVXPY) Feb 23 04:35:03 PM: It is compliant with the following grammars: DCP, DQCP\n",
      "(CVXPY) Feb 23 04:35:03 PM: (If you need to solve this problem multiple times, but with different data, consider using parameters.)\n",
      "(CVXPY) Feb 23 04:35:03 PM: CVXPY will first compile your problem; then, it will invoke a numerical solver to obtain a solution.\n",
      "-------------------------------------------------------------------------------\n",
      "                                  Compilation                                  \n",
      "-------------------------------------------------------------------------------\n",
      "(CVXPY) Feb 23 04:35:03 PM: Compiling problem (target solver=SCIPY).\n",
      "(CVXPY) Feb 23 04:35:03 PM: Reduction chain: FlipObjective -> Dcp2Cone -> CvxAttr2Constr -> ConeMatrixStuffing -> SCIPY\n",
      "(CVXPY) Feb 23 04:35:03 PM: Applying reduction FlipObjective\n",
      "(CVXPY) Feb 23 04:35:03 PM: Applying reduction Dcp2Cone\n",
      "(CVXPY) Feb 23 04:35:03 PM: Applying reduction CvxAttr2Constr\n",
      "(CVXPY) Feb 23 04:35:03 PM: Applying reduction ConeMatrixStuffing\n",
      "(CVXPY) Feb 23 04:35:03 PM: Applying reduction SCIPY\n",
      "(CVXPY) Feb 23 04:35:03 PM: Finished problem compilation (took 5.597e-03 seconds).\n",
      "-------------------------------------------------------------------------------\n",
      "                                Numerical solver                               \n",
      "-------------------------------------------------------------------------------\n",
      "(CVXPY) Feb 23 04:35:03 PM: Invoking solver SCIPY  to obtain a solution.\n",
      "Solver terminated with message: The problem is infeasible. (HiGHS Status 8: model_status is Infeasible; primal_status is Basic)\n",
      "-------------------------------------------------------------------------------\n",
      "                                    Summary                                    \n",
      "-------------------------------------------------------------------------------\n",
      "(CVXPY) Feb 23 04:35:03 PM: Problem status: infeasible\n",
      "(CVXPY) Feb 23 04:35:03 PM: Optimal value: -inf\n",
      "(CVXPY) Feb 23 04:35:03 PM: Compilation took 5.597e-03 seconds\n",
      "(CVXPY) Feb 23 04:35:03 PM: Solver (including time spent in interface) took 1.602e-03 seconds\n",
      "None\n"
     ]
    }
   ],
   "source": [
    "prob = cvx.Problem(objective, constraints)\n",
    "\n",
    "# The optimal objective value is returned by `prob.solve()`.\n",
    "result = prob.solve(solver='SCIPY',verbose=True)\n",
    "# The optimal value for x is stored in `x.value`.\n",
    "print(x.value)"
   ]
  },
  {
   "cell_type": "code",
   "execution_count": 284,
   "id": "d34dfe7e",
   "metadata": {},
   "outputs": [
    {
     "name": "stdout",
     "output_type": "stream",
     "text": [
      "None\n"
     ]
    }
   ],
   "source": [
    "# The optimal value for x is stored in `x.value`.\n",
    "print(x.value)"
   ]
  },
  {
   "cell_type": "code",
   "execution_count": null,
   "id": "a0cc3e75",
   "metadata": {},
   "outputs": [],
   "source": []
  },
  {
   "cell_type": "code",
   "execution_count": null,
   "id": "d13c8a5f",
   "metadata": {},
   "outputs": [],
   "source": [
    "# Problem data.\n",
    "m = 30\n",
    "n = 20\n",
    "np.random.seed(1)\n",
    "A = np.random.randn(m, n)\n",
    "b = np.random.randn(m)\n",
    "\n",
    "# Construct the problem.\n",
    "x = cp.Variable(n)\n",
    "objective = cp.Minimize(cp.sum_squares(A @ x - b))\n",
    "constraints = [0 <= x, x <= 1]\n",
    "prob = cp.Problem(objective, constraints)\n",
    "\n",
    "# The optimal objective value is returned by `prob.solve()`.\n",
    "result = prob.solve()\n",
    "# The optimal value for x is stored in `x.value`.\n",
    "print(x.value)\n",
    "# The optimal Lagrange multiplier for a constraint is stored in\n",
    "# `constraint.dual_value`.\n",
    "print(constraints[0].dual_value)"
   ]
  },
  {
   "cell_type": "code",
   "execution_count": null,
   "id": "fba44be6",
   "metadata": {},
   "outputs": [],
   "source": []
  },
  {
   "cell_type": "code",
   "execution_count": null,
   "id": "9bb2a760",
   "metadata": {},
   "outputs": [],
   "source": []
  },
  {
   "cell_type": "code",
   "execution_count": null,
   "id": "69d25432",
   "metadata": {},
   "outputs": [],
   "source": []
  },
  {
   "cell_type": "code",
   "execution_count": null,
   "id": "1864dad0",
   "metadata": {},
   "outputs": [],
   "source": []
  },
  {
   "cell_type": "code",
   "execution_count": null,
   "id": "d2694525",
   "metadata": {},
   "outputs": [],
   "source": []
  },
  {
   "cell_type": "code",
   "execution_count": null,
   "id": "76c8e528",
   "metadata": {},
   "outputs": [],
   "source": []
  },
  {
   "cell_type": "code",
   "execution_count": null,
   "id": "de494a86",
   "metadata": {},
   "outputs": [],
   "source": []
  },
  {
   "cell_type": "code",
   "execution_count": null,
   "id": "30a9f6e1",
   "metadata": {},
   "outputs": [],
   "source": []
  },
  {
   "cell_type": "code",
   "execution_count": null,
   "id": "1ac3ecc1",
   "metadata": {},
   "outputs": [],
   "source": []
  },
  {
   "cell_type": "code",
   "execution_count": null,
   "id": "70c15dbc",
   "metadata": {},
   "outputs": [],
   "source": []
  },
  {
   "cell_type": "code",
   "execution_count": null,
   "id": "d6caa794",
   "metadata": {},
   "outputs": [],
   "source": []
  },
  {
   "cell_type": "code",
   "execution_count": null,
   "id": "308bff26",
   "metadata": {},
   "outputs": [],
   "source": []
  },
  {
   "cell_type": "code",
   "execution_count": null,
   "id": "60d61a58",
   "metadata": {},
   "outputs": [],
   "source": []
  },
  {
   "cell_type": "code",
   "execution_count": null,
   "id": "a3258db1",
   "metadata": {},
   "outputs": [],
   "source": []
  },
  {
   "cell_type": "code",
   "execution_count": null,
   "id": "f5b7e515",
   "metadata": {},
   "outputs": [],
   "source": []
  },
  {
   "cell_type": "code",
   "execution_count": null,
   "id": "639d53f8",
   "metadata": {},
   "outputs": [],
   "source": []
  },
  {
   "cell_type": "code",
   "execution_count": null,
   "id": "4be0b948",
   "metadata": {},
   "outputs": [],
   "source": []
  }
 ],
 "metadata": {
  "kernelspec": {
   "display_name": "Python 3 (ipykernel)",
   "language": "python",
   "name": "python3"
  },
  "language_info": {
   "codemirror_mode": {
    "name": "ipython",
    "version": 3
   },
   "file_extension": ".py",
   "mimetype": "text/x-python",
   "name": "python",
   "nbconvert_exporter": "python",
   "pygments_lexer": "ipython3",
   "version": "3.11.3"
  }
 },
 "nbformat": 4,
 "nbformat_minor": 5
}
