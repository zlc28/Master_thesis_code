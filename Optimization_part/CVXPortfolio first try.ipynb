{
 "cells": [
  {
   "cell_type": "code",
   "execution_count": 1,
   "id": "417993b1",
   "metadata": {},
   "outputs": [],
   "source": [
    "import pandas as pd\n",
    "import numpy as np\n",
    "import cvxportfolio as cvx\n",
    "from datetime import datetime, timedelta"
   ]
  },
  {
   "cell_type": "code",
   "execution_count": 2,
   "id": "4a8123eb",
   "metadata": {},
   "outputs": [],
   "source": [
    "companies = ['GAZP', 'SBER', 'LKOH', 'GMKN', 'MGNT',  'TATN', 'NVTK', 'SNGS', 'PLZL', 'SNGSP',\n",
    "         'PIKK', 'ROSN', 'SBERP', 'CHMF', 'NLMK', 'IRAO', 'YNDX', 'ALRS', 'RUAL', 'MTSS','MAGN', \n",
    "         'PHOR', 'RTKM', 'VTBR', 'TATNP', 'TCSG', 'AGRO', 'OZON', 'AFLT', 'AFKS','FEES', 'TRNFP',\n",
    "         'CBOM', 'VKCO', 'ENPG', 'SGZH', 'FIVE',  'MOEX', 'GLTR', 'HYDR', 'FIXP']"
   ]
  },
  {
   "cell_type": "code",
   "execution_count": 3,
   "id": "ee1b2495",
   "metadata": {},
   "outputs": [],
   "source": [
    "def expected_returns(data, day, hour, companies):\n",
    "    '''\n",
    "    Принимает на вход запрос по дате времени и активу\n",
    "    Возвращает предстказанную доходность\n",
    "    '''\n",
    "    output = np.zeros(len(companies))\n",
    "    preds = data.loc[day, hour]\n",
    "    availible_companies = preds.Asset.values\n",
    "    \n",
    "    for i, company in enumerate(companies):\n",
    "        if company in availible_companies:\n",
    "            output[i] = preds[preds.Asset == company].pct_pred[0]\n",
    "        else:\n",
    "            output[i] = 0\n",
    "    return output\n",
    "\n",
    "def real_returns(data, day, hour, companies):\n",
    "    '''\n",
    "    Принимает на вход запрос по дате времени и активу\n",
    "    Возвращает реальную доходность\n",
    "    '''\n",
    "    output = np.zeros(len(companies))\n",
    "    preds = data.loc[day, hour]\n",
    "    availible_companies = preds.Asset.values\n",
    "    \n",
    "    for i, company in enumerate(companies):\n",
    "        if company in availible_companies:\n",
    "            output[i] = preds[preds.Asset == company].pct_fact[0]\n",
    "        else:\n",
    "            output[i] = 0\n",
    "    return output \n",
    "\n",
    "def hour2time(hour):\n",
    "    if hour == 1:\n",
    "        res = '11:00:00'\n",
    "    elif hour == 2:\n",
    "        res = '12:00:00'\n",
    "    elif hour == 3:\n",
    "        res = '13:00:00'\n",
    "    elif hour == 4:\n",
    "        res = '14:00:00'\n",
    "    elif hour == 5:\n",
    "        res = '15:00:00'\n",
    "    elif hour == 6:\n",
    "        res = '16:00:00'\n",
    "    elif hour == 7:\n",
    "        res = '17:00:00'\n",
    "    elif hour == 8:\n",
    "        res = '18:00:00'\n",
    "    elif hour == 9:\n",
    "        res = '18:45:00'\n",
    "    return res"
   ]
  },
  {
   "cell_type": "code",
   "execution_count": 67,
   "id": "b9653bc8",
   "metadata": {},
   "outputs": [],
   "source": [
    "returns = pd.read_csv('cvxportfolio_pred_returns', index_col='Date')\n",
    "returns.index = pd.DatetimeIndex(returns.index).tz_localize('Europe/Moscow')\n",
    "\n",
    "closes = pd.read_csv('cvxportfolio_fact_closes', index_col='Date')\n",
    "closes.index = pd.DatetimeIndex(closes.index).tz_localize('Europe/Moscow')\n",
    "\n",
    "volumes = pd.read_csv('volumes', index_col='Date')\n",
    "volumes.index = closes.index "
   ]
  },
  {
   "cell_type": "code",
   "execution_count": 71,
   "id": "41a7054d",
   "metadata": {},
   "outputs": [],
   "source": [
    "objective = cvx.ReturnsForecast(r_hat=returns) - cvx.StocksTransactionCost(a=0.005)"
   ]
  },
  {
   "cell_type": "code",
   "execution_count": 72,
   "id": "04ae7b02",
   "metadata": {},
   "outputs": [],
   "source": [
    "constraints = [cvx.LongOnly(applies_to_cash=True)]"
   ]
  },
  {
   "cell_type": "code",
   "execution_count": 73,
   "id": "4443b747",
   "metadata": {},
   "outputs": [],
   "source": [
    "policy = cvx.SinglePeriodOptimization(objective, constraints)"
   ]
  },
  {
   "cell_type": "code",
   "execution_count": null,
   "id": "b44fbffe",
   "metadata": {},
   "outputs": [],
   "source": []
  },
  {
   "cell_type": "code",
   "execution_count": 58,
   "id": "3b5eb0f5",
   "metadata": {},
   "outputs": [],
   "source": [
    "# data = cvx.UserProvidedMarketData(returns=my_forecast, prices=None)"
   ]
  },
  {
   "cell_type": "code",
   "execution_count": 76,
   "id": "68040253",
   "metadata": {
    "scrolled": true
   },
   "outputs": [],
   "source": [
    "simulator = cvx.MarketSimulator(returns=returns,  min_history=pd.Timedelta('100 days 05:45:36'))"
   ]
  },
  {
   "cell_type": "code",
   "execution_count": 77,
   "id": "ad650fe7",
   "metadata": {},
   "outputs": [
    {
     "ename": "DataError",
     "evalue": "HistoricalMeanVolume can only be used if MarketData provides market volumes.",
     "output_type": "error",
     "traceback": [
      "\u001b[0;31m---------------------------------------------------------------------------\u001b[0m",
      "\u001b[0;31mDataError\u001b[0m                                 Traceback (most recent call last)",
      "Cell \u001b[0;32mIn[77], line 1\u001b[0m\n\u001b[0;32m----> 1\u001b[0m results \u001b[38;5;241m=\u001b[39m simulator\u001b[38;5;241m.\u001b[39mbacktest(policy, start_time\u001b[38;5;241m=\u001b[39m\u001b[38;5;124m'\u001b[39m\u001b[38;5;124m2023-02-03 11:00:00\u001b[39m\u001b[38;5;124m'\u001b[39m, end_time\u001b[38;5;241m=\u001b[39m\u001b[38;5;124m'\u001b[39m\u001b[38;5;124m2023-10-24 18:45:00\u001b[39m\u001b[38;5;124m'\u001b[39m)\n",
      "File \u001b[0;32m~/anaconda3/lib/python3.11/site-packages/cvxportfolio/simulator.py:583\u001b[0m, in \u001b[0;36mMarketSimulator.backtest\u001b[0;34m(self, policy, start_time, end_time, initial_value, h)\u001b[0m\n\u001b[1;32m    554\u001b[0m \u001b[38;5;28;01mdef\u001b[39;00m \u001b[38;5;21mbacktest\u001b[39m(\n\u001b[1;32m    555\u001b[0m         \u001b[38;5;28mself\u001b[39m, policy, start_time\u001b[38;5;241m=\u001b[39m\u001b[38;5;28;01mNone\u001b[39;00m, end_time\u001b[38;5;241m=\u001b[39m\u001b[38;5;28;01mNone\u001b[39;00m, initial_value\u001b[38;5;241m=\u001b[39m\u001b[38;5;241m1E6\u001b[39m,\n\u001b[1;32m    556\u001b[0m         h\u001b[38;5;241m=\u001b[39m\u001b[38;5;28;01mNone\u001b[39;00m):\n\u001b[1;32m    557\u001b[0m \u001b[38;5;250m    \u001b[39m\u001b[38;5;124;03m\"\"\"Back-test a trading policy.\u001b[39;00m\n\u001b[1;32m    558\u001b[0m \n\u001b[1;32m    559\u001b[0m \u001b[38;5;124;03m    The default initial portfolio is all cash, or you can pass any\u001b[39;00m\n\u001b[0;32m   (...)\u001b[0m\n\u001b[1;32m    581\u001b[0m \u001b[38;5;124;03m    :rtype: :class:`cvxportfolio.BacktestResult`\u001b[39;00m\n\u001b[1;32m    582\u001b[0m \u001b[38;5;124;03m    \"\"\"\u001b[39;00m\n\u001b[0;32m--> 583\u001b[0m     \u001b[38;5;28;01mreturn\u001b[39;00m \u001b[38;5;28mself\u001b[39m\u001b[38;5;241m.\u001b[39mbacktest_many(\n\u001b[1;32m    584\u001b[0m         [policy], start_time\u001b[38;5;241m=\u001b[39mstart_time, end_time\u001b[38;5;241m=\u001b[39mend_time,\n\u001b[1;32m    585\u001b[0m         initial_value\u001b[38;5;241m=\u001b[39minitial_value, h\u001b[38;5;241m=\u001b[39m\u001b[38;5;28;01mNone\u001b[39;00m \u001b[38;5;28;01mif\u001b[39;00m h \u001b[38;5;129;01mis\u001b[39;00m \u001b[38;5;28;01mNone\u001b[39;00m \u001b[38;5;28;01melse\u001b[39;00m [h],\n\u001b[1;32m    586\u001b[0m         parallel\u001b[38;5;241m=\u001b[39m\u001b[38;5;28;01mFalse\u001b[39;00m)[\u001b[38;5;241m0\u001b[39m]\n",
      "File \u001b[0;32m~/anaconda3/lib/python3.11/site-packages/cvxportfolio/simulator.py:693\u001b[0m, in \u001b[0;36mMarketSimulator.backtest_many\u001b[0;34m(self, policies, start_time, end_time, initial_value, h, parallel)\u001b[0m\n\u001b[1;32m    689\u001b[0m zip_args \u001b[38;5;241m=\u001b[39m \u001b[38;5;28mzip\u001b[39m(policies, [\u001b[38;5;28mself\u001b[39m] \u001b[38;5;241m*\u001b[39m n,\n\u001b[1;32m    690\u001b[0m                [start_time] \u001b[38;5;241m*\u001b[39m n, [end_time] \u001b[38;5;241m*\u001b[39m n, h)\n\u001b[1;32m    692\u001b[0m \u001b[38;5;28;01mif\u001b[39;00m (\u001b[38;5;129;01mnot\u001b[39;00m parallel) \u001b[38;5;129;01mor\u001b[39;00m \u001b[38;5;28mlen\u001b[39m(policies) \u001b[38;5;241m==\u001b[39m \u001b[38;5;241m1\u001b[39m:\n\u001b[0;32m--> 693\u001b[0m     result \u001b[38;5;241m=\u001b[39m \u001b[38;5;28mlist\u001b[39m(starmap(\u001b[38;5;28mself\u001b[39m\u001b[38;5;241m.\u001b[39m_worker, zip_args))\n\u001b[1;32m    694\u001b[0m \u001b[38;5;28;01melse\u001b[39;00m:\n\u001b[1;32m    695\u001b[0m     \u001b[38;5;28;01mwith\u001b[39;00m Pool(initializer\u001b[38;5;241m=\u001b[39m_mp_init, initargs\u001b[38;5;241m=\u001b[39m(Lock(),)) \u001b[38;5;28;01mas\u001b[39;00m p:\n",
      "File \u001b[0;32m~/anaconda3/lib/python3.11/site-packages/cvxportfolio/simulator.py:446\u001b[0m, in \u001b[0;36mMarketSimulator._worker\u001b[0;34m(policy, simulator, start_time, end_time, h)\u001b[0m\n\u001b[1;32m    444\u001b[0m \u001b[38;5;129m@staticmethod\u001b[39m\n\u001b[1;32m    445\u001b[0m \u001b[38;5;28;01mdef\u001b[39;00m \u001b[38;5;21m_worker\u001b[39m(policy, simulator, start_time, end_time, h):\n\u001b[0;32m--> 446\u001b[0m     \u001b[38;5;28;01mreturn\u001b[39;00m simulator\u001b[38;5;241m.\u001b[39m_backtest(policy, start_time, end_time, h)\n",
      "File \u001b[0;32m~/anaconda3/lib/python3.11/site-packages/cvxportfolio/simulator.py:354\u001b[0m, in \u001b[0;36mMarketSimulator._backtest\u001b[0;34m(self, policy, start_time, end_time, h)\u001b[0m\n\u001b[1;32m    349\u001b[0m     h \u001b[38;5;241m=\u001b[39m \u001b[38;5;28mself\u001b[39m\u001b[38;5;241m.\u001b[39m_adjust_h_new_universe(h, current_universe)\n\u001b[1;32m    350\u001b[0m     used_policy \u001b[38;5;241m=\u001b[39m \u001b[38;5;28mself\u001b[39m\u001b[38;5;241m.\u001b[39m_get_initialized_policy(\n\u001b[1;32m    351\u001b[0m         policy, universe\u001b[38;5;241m=\u001b[39mcurrent_universe,\n\u001b[1;32m    352\u001b[0m         trading_calendar\u001b[38;5;241m=\u001b[39mtrading_calendar[trading_calendar \u001b[38;5;241m>\u001b[39m\u001b[38;5;241m=\u001b[39m t])\n\u001b[0;32m--> 354\u001b[0m h_next, z, u, realized_costs, policy_time \u001b[38;5;241m=\u001b[39m \u001b[38;5;28mself\u001b[39m\u001b[38;5;241m.\u001b[39msimulate(\n\u001b[1;32m    355\u001b[0m     t\u001b[38;5;241m=\u001b[39mt, h\u001b[38;5;241m=\u001b[39mh, policy\u001b[38;5;241m=\u001b[39mused_policy,\n\u001b[1;32m    356\u001b[0m     t_next\u001b[38;5;241m=\u001b[39mt_next,\n\u001b[1;32m    357\u001b[0m     past_returns\u001b[38;5;241m=\u001b[39mpast_returns,\n\u001b[1;32m    358\u001b[0m     current_returns\u001b[38;5;241m=\u001b[39mcurrent_returns,\n\u001b[1;32m    359\u001b[0m     past_volumes\u001b[38;5;241m=\u001b[39mpast_volumes,\n\u001b[1;32m    360\u001b[0m     current_volumes\u001b[38;5;241m=\u001b[39mcurrent_volumes,\n\u001b[1;32m    361\u001b[0m     current_prices\u001b[38;5;241m=\u001b[39mcurrent_prices)\n\u001b[1;32m    363\u001b[0m \u001b[38;5;28;01mif\u001b[39;00m \u001b[38;5;28mhasattr\u001b[39m(used_policy, \u001b[38;5;124m'\u001b[39m\u001b[38;5;124mbenchmark\u001b[39m\u001b[38;5;124m'\u001b[39m):\n\u001b[1;32m    364\u001b[0m     w_bm \u001b[38;5;241m=\u001b[39m used_policy\u001b[38;5;241m.\u001b[39mbenchmark\u001b[38;5;241m.\u001b[39mcurrent_value\n",
      "File \u001b[0;32m~/anaconda3/lib/python3.11/site-packages/cvxportfolio/simulator.py:210\u001b[0m, in \u001b[0;36mMarketSimulator.simulate\u001b[0;34m(self, t, t_next, h, policy, past_returns, current_returns, past_volumes, current_volumes, current_prices)\u001b[0m\n\u001b[1;32m    208\u001b[0m s \u001b[38;5;241m=\u001b[39m time\u001b[38;5;241m.\u001b[39mtime()\n\u001b[1;32m    209\u001b[0m logger\u001b[38;5;241m.\u001b[39minfo(\u001b[38;5;124m'\u001b[39m\u001b[38;5;124mEvaluating the policy at time \u001b[39m\u001b[38;5;132;01m%s\u001b[39;00m\u001b[38;5;124m'\u001b[39m, t)\n\u001b[0;32m--> 210\u001b[0m policy_w \u001b[38;5;241m=\u001b[39m policy\u001b[38;5;241m.\u001b[39mvalues_in_time_recursive(\n\u001b[1;32m    211\u001b[0m     t\u001b[38;5;241m=\u001b[39mt, current_weights\u001b[38;5;241m=\u001b[39mcurrent_weights,\n\u001b[1;32m    212\u001b[0m     current_portfolio_value\u001b[38;5;241m=\u001b[39mcurrent_portfolio_value,\n\u001b[1;32m    213\u001b[0m     past_returns\u001b[38;5;241m=\u001b[39mpast_returns, past_volumes\u001b[38;5;241m=\u001b[39mpast_volumes,\n\u001b[1;32m    214\u001b[0m     current_prices\u001b[38;5;241m=\u001b[39mcurrent_prices)\n\u001b[1;32m    216\u001b[0m z \u001b[38;5;241m=\u001b[39m policy_w \u001b[38;5;241m-\u001b[39m current_weights\n\u001b[1;32m    218\u001b[0m policy_time \u001b[38;5;241m=\u001b[39m time\u001b[38;5;241m.\u001b[39mtime() \u001b[38;5;241m-\u001b[39m s\n",
      "File \u001b[0;32m~/anaconda3/lib/python3.11/site-packages/cvxportfolio/policies.py:815\u001b[0m, in \u001b[0;36mMultiPeriodOptimization.values_in_time_recursive\u001b[0;34m(self, t, current_weights, current_portfolio_value, **kwargs)\u001b[0m\n\u001b[1;32m    812\u001b[0m \u001b[38;5;28;01massert\u001b[39;00m np\u001b[38;5;241m.\u001b[39misclose(\u001b[38;5;28msum\u001b[39m(current_weights), \u001b[38;5;241m1\u001b[39m)\n\u001b[1;32m    814\u001b[0m \u001b[38;5;28;01mfor\u001b[39;00m i, obj \u001b[38;5;129;01min\u001b[39;00m \u001b[38;5;28menumerate\u001b[39m(\u001b[38;5;28mself\u001b[39m\u001b[38;5;241m.\u001b[39mobjective):\n\u001b[0;32m--> 815\u001b[0m     obj\u001b[38;5;241m.\u001b[39mvalues_in_time_recursive(\n\u001b[1;32m    816\u001b[0m         t\u001b[38;5;241m=\u001b[39mt, current_weights\u001b[38;5;241m=\u001b[39mcurrent_weights,\n\u001b[1;32m    817\u001b[0m         current_portfolio_value\u001b[38;5;241m=\u001b[39mcurrent_portfolio_value,\n\u001b[1;32m    818\u001b[0m         mpo_step\u001b[38;5;241m=\u001b[39mi, cache\u001b[38;5;241m=\u001b[39m\u001b[38;5;28mself\u001b[39m\u001b[38;5;241m.\u001b[39m_cache,\n\u001b[1;32m    819\u001b[0m         \u001b[38;5;241m*\u001b[39m\u001b[38;5;241m*\u001b[39mkwargs)\n\u001b[1;32m    821\u001b[0m \u001b[38;5;28;01mfor\u001b[39;00m i, constr_at_lag \u001b[38;5;129;01min\u001b[39;00m \u001b[38;5;28menumerate\u001b[39m(\u001b[38;5;28mself\u001b[39m\u001b[38;5;241m.\u001b[39mconstraints):\n\u001b[1;32m    822\u001b[0m     \u001b[38;5;28;01mfor\u001b[39;00m constr \u001b[38;5;129;01min\u001b[39;00m constr_at_lag:\n",
      "File \u001b[0;32m~/anaconda3/lib/python3.11/site-packages/cvxportfolio/costs.py:221\u001b[0m, in \u001b[0;36mCombinedCosts.values_in_time_recursive\u001b[0;34m(self, **kwargs)\u001b[0m\n\u001b[1;32m    215\u001b[0m \u001b[38;5;250m\u001b[39m\u001b[38;5;124;03m\"\"\"Evaluate estimators by iterating over constituent costs.\u001b[39;00m\n\u001b[1;32m    216\u001b[0m \n\u001b[1;32m    217\u001b[0m \u001b[38;5;124;03m:param kwargs: All parameters passed to :meth:`values_in_time`.\u001b[39;00m\n\u001b[1;32m    218\u001b[0m \u001b[38;5;124;03m:type kwargs: dict\u001b[39;00m\n\u001b[1;32m    219\u001b[0m \u001b[38;5;124;03m\"\"\"\u001b[39;00m\n\u001b[1;32m    220\u001b[0m \u001b[38;5;28;01mfor\u001b[39;00m el \u001b[38;5;129;01min\u001b[39;00m \u001b[38;5;28mself\u001b[39m\u001b[38;5;241m.\u001b[39mcosts:\n\u001b[0;32m--> 221\u001b[0m     el\u001b[38;5;241m.\u001b[39mvalues_in_time_recursive(\u001b[38;5;241m*\u001b[39m\u001b[38;5;241m*\u001b[39mkwargs)\n",
      "File \u001b[0;32m~/anaconda3/lib/python3.11/site-packages/cvxportfolio/estimator.py:183\u001b[0m, in \u001b[0;36mEstimator.values_in_time_recursive\u001b[0;34m(self, **kwargs)\u001b[0m\n\u001b[1;32m    181\u001b[0m \u001b[38;5;28;01mfor\u001b[39;00m _, subestimator \u001b[38;5;129;01min\u001b[39;00m \u001b[38;5;28mself\u001b[39m\u001b[38;5;241m.\u001b[39m\u001b[38;5;18m__dict__\u001b[39m\u001b[38;5;241m.\u001b[39mitems():\n\u001b[1;32m    182\u001b[0m     \u001b[38;5;28;01mif\u001b[39;00m \u001b[38;5;28mhasattr\u001b[39m(subestimator, \u001b[38;5;124m\"\u001b[39m\u001b[38;5;124mvalues_in_time_recursive\u001b[39m\u001b[38;5;124m\"\u001b[39m):\n\u001b[0;32m--> 183\u001b[0m         subestimator\u001b[38;5;241m.\u001b[39mvalues_in_time_recursive(\u001b[38;5;241m*\u001b[39m\u001b[38;5;241m*\u001b[39mkwargs)\n\u001b[1;32m    184\u001b[0m \u001b[38;5;28;01mif\u001b[39;00m \u001b[38;5;28mhasattr\u001b[39m(\u001b[38;5;28mself\u001b[39m, \u001b[38;5;124m\"\u001b[39m\u001b[38;5;124mvalues_in_time\u001b[39m\u001b[38;5;124m\"\u001b[39m):\n\u001b[1;32m    185\u001b[0m     \u001b[38;5;66;03m# pylint: disable=assignment-from-no-return\u001b[39;00m\n\u001b[1;32m    186\u001b[0m     \u001b[38;5;28mself\u001b[39m\u001b[38;5;241m.\u001b[39m_current_value \u001b[38;5;241m=\u001b[39m \u001b[38;5;28mself\u001b[39m\u001b[38;5;241m.\u001b[39mvalues_in_time(\u001b[38;5;241m*\u001b[39m\u001b[38;5;241m*\u001b[39mkwargs)\n",
      "File \u001b[0;32m~/anaconda3/lib/python3.11/site-packages/cvxportfolio/estimator.py:183\u001b[0m, in \u001b[0;36mEstimator.values_in_time_recursive\u001b[0;34m(self, **kwargs)\u001b[0m\n\u001b[1;32m    181\u001b[0m \u001b[38;5;28;01mfor\u001b[39;00m _, subestimator \u001b[38;5;129;01min\u001b[39;00m \u001b[38;5;28mself\u001b[39m\u001b[38;5;241m.\u001b[39m\u001b[38;5;18m__dict__\u001b[39m\u001b[38;5;241m.\u001b[39mitems():\n\u001b[1;32m    182\u001b[0m     \u001b[38;5;28;01mif\u001b[39;00m \u001b[38;5;28mhasattr\u001b[39m(subestimator, \u001b[38;5;124m\"\u001b[39m\u001b[38;5;124mvalues_in_time_recursive\u001b[39m\u001b[38;5;124m\"\u001b[39m):\n\u001b[0;32m--> 183\u001b[0m         subestimator\u001b[38;5;241m.\u001b[39mvalues_in_time_recursive(\u001b[38;5;241m*\u001b[39m\u001b[38;5;241m*\u001b[39mkwargs)\n\u001b[1;32m    184\u001b[0m \u001b[38;5;28;01mif\u001b[39;00m \u001b[38;5;28mhasattr\u001b[39m(\u001b[38;5;28mself\u001b[39m, \u001b[38;5;124m\"\u001b[39m\u001b[38;5;124mvalues_in_time\u001b[39m\u001b[38;5;124m\"\u001b[39m):\n\u001b[1;32m    185\u001b[0m     \u001b[38;5;66;03m# pylint: disable=assignment-from-no-return\u001b[39;00m\n\u001b[1;32m    186\u001b[0m     \u001b[38;5;28mself\u001b[39m\u001b[38;5;241m.\u001b[39m_current_value \u001b[38;5;241m=\u001b[39m \u001b[38;5;28mself\u001b[39m\u001b[38;5;241m.\u001b[39mvalues_in_time(\u001b[38;5;241m*\u001b[39m\u001b[38;5;241m*\u001b[39mkwargs)\n",
      "File \u001b[0;32m~/anaconda3/lib/python3.11/site-packages/cvxportfolio/estimator.py:183\u001b[0m, in \u001b[0;36mEstimator.values_in_time_recursive\u001b[0;34m(self, **kwargs)\u001b[0m\n\u001b[1;32m    181\u001b[0m \u001b[38;5;28;01mfor\u001b[39;00m _, subestimator \u001b[38;5;129;01min\u001b[39;00m \u001b[38;5;28mself\u001b[39m\u001b[38;5;241m.\u001b[39m\u001b[38;5;18m__dict__\u001b[39m\u001b[38;5;241m.\u001b[39mitems():\n\u001b[1;32m    182\u001b[0m     \u001b[38;5;28;01mif\u001b[39;00m \u001b[38;5;28mhasattr\u001b[39m(subestimator, \u001b[38;5;124m\"\u001b[39m\u001b[38;5;124mvalues_in_time_recursive\u001b[39m\u001b[38;5;124m\"\u001b[39m):\n\u001b[0;32m--> 183\u001b[0m         subestimator\u001b[38;5;241m.\u001b[39mvalues_in_time_recursive(\u001b[38;5;241m*\u001b[39m\u001b[38;5;241m*\u001b[39mkwargs)\n\u001b[1;32m    184\u001b[0m \u001b[38;5;28;01mif\u001b[39;00m \u001b[38;5;28mhasattr\u001b[39m(\u001b[38;5;28mself\u001b[39m, \u001b[38;5;124m\"\u001b[39m\u001b[38;5;124mvalues_in_time\u001b[39m\u001b[38;5;124m\"\u001b[39m):\n\u001b[1;32m    185\u001b[0m     \u001b[38;5;66;03m# pylint: disable=assignment-from-no-return\u001b[39;00m\n\u001b[1;32m    186\u001b[0m     \u001b[38;5;28mself\u001b[39m\u001b[38;5;241m.\u001b[39m_current_value \u001b[38;5;241m=\u001b[39m \u001b[38;5;28mself\u001b[39m\u001b[38;5;241m.\u001b[39mvalues_in_time(\u001b[38;5;241m*\u001b[39m\u001b[38;5;241m*\u001b[39mkwargs)\n",
      "File \u001b[0;32m~/anaconda3/lib/python3.11/site-packages/cvxportfolio/estimator.py:186\u001b[0m, in \u001b[0;36mEstimator.values_in_time_recursive\u001b[0;34m(self, **kwargs)\u001b[0m\n\u001b[1;32m    183\u001b[0m         subestimator\u001b[38;5;241m.\u001b[39mvalues_in_time_recursive(\u001b[38;5;241m*\u001b[39m\u001b[38;5;241m*\u001b[39mkwargs)\n\u001b[1;32m    184\u001b[0m \u001b[38;5;28;01mif\u001b[39;00m \u001b[38;5;28mhasattr\u001b[39m(\u001b[38;5;28mself\u001b[39m, \u001b[38;5;124m\"\u001b[39m\u001b[38;5;124mvalues_in_time\u001b[39m\u001b[38;5;124m\"\u001b[39m):\n\u001b[1;32m    185\u001b[0m     \u001b[38;5;66;03m# pylint: disable=assignment-from-no-return\u001b[39;00m\n\u001b[0;32m--> 186\u001b[0m     \u001b[38;5;28mself\u001b[39m\u001b[38;5;241m.\u001b[39m_current_value \u001b[38;5;241m=\u001b[39m \u001b[38;5;28mself\u001b[39m\u001b[38;5;241m.\u001b[39mvalues_in_time(\u001b[38;5;241m*\u001b[39m\u001b[38;5;241m*\u001b[39mkwargs)\n\u001b[1;32m    187\u001b[0m     \u001b[38;5;28;01mreturn\u001b[39;00m \u001b[38;5;28mself\u001b[39m\u001b[38;5;241m.\u001b[39mcurrent_value\n\u001b[1;32m    188\u001b[0m \u001b[38;5;28;01mreturn\u001b[39;00m \u001b[38;5;28;01mNone\u001b[39;00m\n",
      "File \u001b[0;32m~/anaconda3/lib/python3.11/site-packages/cvxportfolio/forecast.py:277\u001b[0m, in \u001b[0;36mBaseMeanVarForecast.values_in_time\u001b[0;34m(self, **kwargs)\u001b[0m\n\u001b[1;32m    267\u001b[0m \u001b[38;5;28;01mdef\u001b[39;00m \u001b[38;5;21mvalues_in_time\u001b[39m( \u001b[38;5;66;03m# pylint: disable=arguments-differ\u001b[39;00m\n\u001b[1;32m    268\u001b[0m         \u001b[38;5;28mself\u001b[39m, \u001b[38;5;241m*\u001b[39m\u001b[38;5;241m*\u001b[39mkwargs):\n\u001b[1;32m    269\u001b[0m \u001b[38;5;250m    \u001b[39m\u001b[38;5;124;03m\"\"\"Obtain current value of the historical mean of given dataframe.\u001b[39;00m\n\u001b[1;32m    270\u001b[0m \n\u001b[1;32m    271\u001b[0m \u001b[38;5;124;03m    :param kwargs: All arguments to :meth:`values_in_time`.\u001b[39;00m\n\u001b[0;32m   (...)\u001b[0m\n\u001b[1;32m    275\u001b[0m \u001b[38;5;124;03m    :rtype: numpy.array\u001b[39;00m\n\u001b[1;32m    276\u001b[0m \u001b[38;5;124;03m    \"\"\"\u001b[39;00m\n\u001b[0;32m--> 277\u001b[0m     \u001b[38;5;28mself\u001b[39m\u001b[38;5;241m.\u001b[39m_agnostic_update(\u001b[38;5;241m*\u001b[39m\u001b[38;5;241m*\u001b[39mkwargs)\n\u001b[1;32m    278\u001b[0m     \u001b[38;5;28;01mreturn\u001b[39;00m (\u001b[38;5;28mself\u001b[39m\u001b[38;5;241m.\u001b[39m_numerator \u001b[38;5;241m/\u001b[39m \u001b[38;5;28mself\u001b[39m\u001b[38;5;241m.\u001b[39m_denominator)\u001b[38;5;241m.\u001b[39mvalues\n",
      "File \u001b[0;32m~/anaconda3/lib/python3.11/site-packages/cvxportfolio/forecast.py:189\u001b[0m, in \u001b[0;36mBaseForecast._agnostic_update\u001b[0;34m(self, t, past_returns, **kwargs)\u001b[0m\n\u001b[1;32m    184\u001b[0m \u001b[38;5;28;01mif\u001b[39;00m (\u001b[38;5;28mself\u001b[39m\u001b[38;5;241m.\u001b[39m_last_time \u001b[38;5;129;01mis\u001b[39;00m \u001b[38;5;28;01mNone\u001b[39;00m) \u001b[38;5;129;01mor\u001b[39;00m (\n\u001b[1;32m    185\u001b[0m     \u001b[38;5;28mself\u001b[39m\u001b[38;5;241m.\u001b[39m_last_time \u001b[38;5;241m!=\u001b[39m past_returns\u001b[38;5;241m.\u001b[39mindex[\u001b[38;5;241m-\u001b[39m\u001b[38;5;241m1\u001b[39m]):\n\u001b[1;32m    186\u001b[0m     logger\u001b[38;5;241m.\u001b[39mdebug(\n\u001b[1;32m    187\u001b[0m         \u001b[38;5;124m'\u001b[39m\u001b[38;5;132;01m%s\u001b[39;00m\u001b[38;5;124m.values_in_time at time \u001b[39m\u001b[38;5;132;01m%s\u001b[39;00m\u001b[38;5;124m is computed from scratch.\u001b[39m\u001b[38;5;124m'\u001b[39m,\n\u001b[1;32m    188\u001b[0m         \u001b[38;5;28mself\u001b[39m, t)\n\u001b[0;32m--> 189\u001b[0m     \u001b[38;5;28mself\u001b[39m\u001b[38;5;241m.\u001b[39m_initial_compute(t\u001b[38;5;241m=\u001b[39mt, past_returns\u001b[38;5;241m=\u001b[39mpast_returns, \u001b[38;5;241m*\u001b[39m\u001b[38;5;241m*\u001b[39mkwargs)\n\u001b[1;32m    190\u001b[0m \u001b[38;5;28;01melse\u001b[39;00m:\n\u001b[1;32m    191\u001b[0m     logger\u001b[38;5;241m.\u001b[39mdebug(\n\u001b[1;32m    192\u001b[0m       \u001b[38;5;124m'\u001b[39m\u001b[38;5;132;01m%s\u001b[39;00m\u001b[38;5;124m.values_in_time at time \u001b[39m\u001b[38;5;132;01m%s\u001b[39;00m\u001b[38;5;124m is updated from previous value.\u001b[39m\u001b[38;5;124m'\u001b[39m,\n\u001b[1;32m    193\u001b[0m       \u001b[38;5;28mself\u001b[39m, t)\n",
      "File \u001b[0;32m~/anaconda3/lib/python3.11/site-packages/cvxportfolio/forecast.py:290\u001b[0m, in \u001b[0;36mBaseMeanVarForecast._initial_compute\u001b[0;34m(self, t, **kwargs)\u001b[0m\n\u001b[1;32m    285\u001b[0m \u001b[38;5;28;01mdef\u001b[39;00m \u001b[38;5;21m_initial_compute\u001b[39m(\u001b[38;5;28mself\u001b[39m, t, \u001b[38;5;241m*\u001b[39m\u001b[38;5;241m*\u001b[39mkwargs): \u001b[38;5;66;03m# pylint: disable=arguments-differ\u001b[39;00m\n\u001b[1;32m    286\u001b[0m \u001b[38;5;250m    \u001b[39m\u001b[38;5;124;03m\"\"\"Make forecast from scratch.\u001b[39;00m\n\u001b[1;32m    287\u001b[0m \n\u001b[1;32m    288\u001b[0m \u001b[38;5;124;03m    This method receives the **kwargs passed to :meth:`values_in_time`.\u001b[39;00m\n\u001b[1;32m    289\u001b[0m \u001b[38;5;124;03m    \"\"\"\u001b[39;00m\n\u001b[0;32m--> 290\u001b[0m     df \u001b[38;5;241m=\u001b[39m \u001b[38;5;28mself\u001b[39m\u001b[38;5;241m.\u001b[39m_dataframe_selector(t\u001b[38;5;241m=\u001b[39mt, \u001b[38;5;241m*\u001b[39m\u001b[38;5;241m*\u001b[39mkwargs)\n\u001b[1;32m    292\u001b[0m     \u001b[38;5;66;03m# Moving average window logic\u001b[39;00m\n\u001b[1;32m    293\u001b[0m     \u001b[38;5;28;01mif\u001b[39;00m _is_timedelta(_resolve_hyperpar(\u001b[38;5;28mself\u001b[39m\u001b[38;5;241m.\u001b[39mrolling)):\n",
      "File \u001b[0;32m~/anaconda3/lib/python3.11/site-packages/cvxportfolio/forecast.py:459\u001b[0m, in \u001b[0;36mHistoricalMeanVolume._dataframe_selector\u001b[0;34m(self, past_volumes, **kwargs)\u001b[0m\n\u001b[1;32m    457\u001b[0m \u001b[38;5;250m\u001b[39m\u001b[38;5;124;03m\"\"\"Return dataframe to compute the historical means of.\"\"\"\u001b[39;00m\n\u001b[1;32m    458\u001b[0m \u001b[38;5;28;01mif\u001b[39;00m past_volumes \u001b[38;5;129;01mis\u001b[39;00m \u001b[38;5;28;01mNone\u001b[39;00m:\n\u001b[0;32m--> 459\u001b[0m     \u001b[38;5;28;01mraise\u001b[39;00m DataError(\n\u001b[1;32m    460\u001b[0m         \u001b[38;5;124mf\u001b[39m\u001b[38;5;124m\"\u001b[39m\u001b[38;5;132;01m{\u001b[39;00m\u001b[38;5;28mself\u001b[39m\u001b[38;5;241m.\u001b[39m\u001b[38;5;18m__class__\u001b[39m\u001b[38;5;241m.\u001b[39m\u001b[38;5;18m__name__\u001b[39m\u001b[38;5;132;01m}\u001b[39;00m\u001b[38;5;124m can only be used if MarketData\u001b[39m\u001b[38;5;124m\"\u001b[39m\n\u001b[1;32m    461\u001b[0m         \u001b[38;5;241m+\u001b[39m \u001b[38;5;124m\"\u001b[39m\u001b[38;5;124m provides market volumes.\u001b[39m\u001b[38;5;124m\"\u001b[39m)\n\u001b[1;32m    462\u001b[0m \u001b[38;5;28;01mreturn\u001b[39;00m past_volumes\n",
      "\u001b[0;31mDataError\u001b[0m: HistoricalMeanVolume can only be used if MarketData provides market volumes."
     ]
    }
   ],
   "source": [
    "results = simulator.backtest(policy, start_time='2023-02-03 11:00:00', end_time='2023-10-24 18:45:00')"
   ]
  },
  {
   "cell_type": "code",
   "execution_count": null,
   "id": "0a722b79",
   "metadata": {},
   "outputs": [],
   "source": []
  },
  {
   "cell_type": "code",
   "execution_count": null,
   "id": "381624ff",
   "metadata": {},
   "outputs": [],
   "source": []
  },
  {
   "cell_type": "code",
   "execution_count": null,
   "id": "540266e2",
   "metadata": {},
   "outputs": [],
   "source": []
  },
  {
   "cell_type": "code",
   "execution_count": null,
   "id": "c66e24a0",
   "metadata": {},
   "outputs": [],
   "source": []
  },
  {
   "cell_type": "code",
   "execution_count": null,
   "id": "1fc09501",
   "metadata": {},
   "outputs": [],
   "source": []
  },
  {
   "cell_type": "code",
   "execution_count": null,
   "id": "33f8c54a",
   "metadata": {},
   "outputs": [],
   "source": []
  },
  {
   "cell_type": "code",
   "execution_count": null,
   "id": "8bd89e22",
   "metadata": {},
   "outputs": [],
   "source": []
  },
  {
   "cell_type": "code",
   "execution_count": null,
   "id": "2eb62206",
   "metadata": {},
   "outputs": [],
   "source": []
  },
  {
   "cell_type": "code",
   "execution_count": null,
   "id": "9c1af8b4",
   "metadata": {},
   "outputs": [],
   "source": []
  },
  {
   "cell_type": "code",
   "execution_count": null,
   "id": "a4175a52",
   "metadata": {},
   "outputs": [],
   "source": []
  },
  {
   "cell_type": "code",
   "execution_count": null,
   "id": "14dbee5b",
   "metadata": {},
   "outputs": [],
   "source": []
  },
  {
   "cell_type": "code",
   "execution_count": null,
   "id": "9f33a464",
   "metadata": {},
   "outputs": [],
   "source": []
  },
  {
   "cell_type": "code",
   "execution_count": null,
   "id": "f2eb6ed4",
   "metadata": {},
   "outputs": [],
   "source": []
  },
  {
   "cell_type": "code",
   "execution_count": null,
   "id": "3daac97a",
   "metadata": {},
   "outputs": [],
   "source": []
  },
  {
   "cell_type": "code",
   "execution_count": null,
   "id": "35f64aa3",
   "metadata": {},
   "outputs": [],
   "source": []
  },
  {
   "cell_type": "code",
   "execution_count": null,
   "id": "31054c49",
   "metadata": {},
   "outputs": [],
   "source": []
  },
  {
   "cell_type": "code",
   "execution_count": null,
   "id": "f8eea114",
   "metadata": {},
   "outputs": [],
   "source": []
  },
  {
   "cell_type": "code",
   "execution_count": null,
   "id": "0460a473",
   "metadata": {},
   "outputs": [],
   "source": []
  },
  {
   "cell_type": "code",
   "execution_count": null,
   "id": "5d9c4348",
   "metadata": {},
   "outputs": [],
   "source": []
  },
  {
   "cell_type": "code",
   "execution_count": null,
   "id": "36f96db7",
   "metadata": {},
   "outputs": [],
   "source": []
  }
 ],
 "metadata": {
  "kernelspec": {
   "display_name": "Python 3 (ipykernel)",
   "language": "python",
   "name": "python3"
  },
  "language_info": {
   "codemirror_mode": {
    "name": "ipython",
    "version": 3
   },
   "file_extension": ".py",
   "mimetype": "text/x-python",
   "name": "python",
   "nbconvert_exporter": "python",
   "pygments_lexer": "ipython3",
   "version": "3.11.3"
  }
 },
 "nbformat": 4,
 "nbformat_minor": 5
}
